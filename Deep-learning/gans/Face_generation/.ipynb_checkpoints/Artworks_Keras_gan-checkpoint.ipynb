{
 "cells": [
  {
   "cell_type": "code",
   "execution_count": 3,
   "metadata": {
    "colab": {
     "base_uri": "https://localhost:8080/",
     "height": 243
    },
    "id": "c5p1xW7c-43C",
    "outputId": "a03512e8-345c-49df-9010-600094ebc9ef"
   },
   "outputs": [
    {
     "name": "stdout",
     "output_type": "stream",
     "text": [
      "Requirement already satisfied: kaggle in /usr/local/lib/python3.6/dist-packages (1.5.8)\n",
      "Requirement already satisfied: tqdm in /usr/local/lib/python3.6/dist-packages (from kaggle) (4.41.1)\n",
      "Requirement already satisfied: urllib3<1.25,>=1.21.1 in /usr/local/lib/python3.6/dist-packages (from kaggle) (1.24.3)\n",
      "Requirement already satisfied: python-dateutil in /usr/local/lib/python3.6/dist-packages (from kaggle) (2.8.1)\n",
      "Requirement already satisfied: requests in /usr/local/lib/python3.6/dist-packages (from kaggle) (2.23.0)\n",
      "Requirement already satisfied: six>=1.10 in /usr/local/lib/python3.6/dist-packages (from kaggle) (1.15.0)\n",
      "Requirement already satisfied: certifi in /usr/local/lib/python3.6/dist-packages (from kaggle) (2020.6.20)\n",
      "Requirement already satisfied: slugify in /usr/local/lib/python3.6/dist-packages (from kaggle) (0.0.1)\n",
      "Requirement already satisfied: python-slugify in /usr/local/lib/python3.6/dist-packages (from kaggle) (4.0.1)\n",
      "Requirement already satisfied: chardet<4,>=3.0.2 in /usr/local/lib/python3.6/dist-packages (from requests->kaggle) (3.0.4)\n",
      "Requirement already satisfied: idna<3,>=2.5 in /usr/local/lib/python3.6/dist-packages (from requests->kaggle) (2.10)\n",
      "Requirement already satisfied: text-unidecode>=1.3 in /usr/local/lib/python3.6/dist-packages (from python-slugify->kaggle) (1.3)\n",
      "mkdir: cannot create directory ‘/root/.kaggle’: File exists\n"
     ]
    }
   ],
   "source": [
    "!pip install kaggle\n",
    "! mkdir ~/.kaggle\n",
    "! cp /content/kaggle.json ~/.kaggle/\n",
    "!chmod 600 /root/.kaggle/kaggle.json"
   ]
  },
  {
   "cell_type": "markdown",
   "metadata": {
    "id": "m0mI5GugQpnu"
   },
   "source": [
    "## Artworks by diff artists\n",
    "\n",
    "https://www.kaggle.com/ikarus777/best-artworks-of-all-time"
   ]
  },
  {
   "cell_type": "code",
   "execution_count": 4,
   "metadata": {
    "colab": {
     "base_uri": "https://localhost:8080/",
     "height": 69
    },
    "id": "Cu_FHr9o-7E4",
    "outputId": "d72c18a5-752a-477b-c974-fcc82e397b75"
   },
   "outputs": [
    {
     "name": "stdout",
     "output_type": "stream",
     "text": [
      "Downloading best-artworks-of-all-time.zip to /content\n",
      "100% 2.28G/2.29G [01:05<00:00, 20.9MB/s]\n",
      "100% 2.29G/2.29G [01:05<00:00, 37.5MB/s]\n"
     ]
    }
   ],
   "source": [
    "!kaggle datasets download -d ikarus777/best-artworks-of-all-time\n",
    "!unzip -q /content/best-artworks-of-all-time.zip\n",
    "\n",
    "#DATA_PATH = '/content/resized/resized'\n",
    "DATA_PATH = '/content/images/images/Alfred_Sisley'"
   ]
  },
  {
   "cell_type": "markdown",
   "metadata": {
    "id": "WtWQ9ITXQkGo"
   },
   "source": [
    "## Van goh paintings\n",
    "\n",
    "https://www.kaggle.com/ipythonx/van-gogh-paintings?select=Drawings"
   ]
  },
  {
   "cell_type": "markdown",
   "metadata": {
    "id": "CG-dyIc9RSxc"
   },
   "source": [
    "divided into diff sections.\n",
    "\n",
    "Largest sections is drawing section, with 1002 images"
   ]
  },
  {
   "cell_type": "code",
   "execution_count": 143,
   "metadata": {
    "colab": {
     "base_uri": "https://localhost:8080/",
     "height": 69
    },
    "id": "TUODEhxxOV5d",
    "outputId": "b365faca-aaf9-4620-e79c-37e1269edcc4"
   },
   "outputs": [
    {
     "name": "stdout",
     "output_type": "stream",
     "text": [
      "Downloading van-gogh-paintings.zip to /content\n",
      " 99% 481M/485M [00:24<00:00, 20.8MB/s]\n",
      "100% 485M/485M [00:24<00:00, 21.0MB/s]\n"
     ]
    }
   ],
   "source": [
    "!kaggle datasets download -d ipythonx/van-gogh-paintings\n",
    "!unzip -q /content/van-gogh-paintings.zip"
   ]
  },
  {
   "cell_type": "code",
   "execution_count": null,
   "metadata": {
    "id": "hTc316XQO6EB"
   },
   "outputs": [],
   "source": [
    "DATA_PATH = '/content/Drawings'"
   ]
  },
  {
   "cell_type": "markdown",
   "metadata": {
    "id": "SJwR_-IqQZaF"
   },
   "source": [
    "## Faces dataset\n",
    "\n",
    "50000 face images of 500*500\n",
    "https://www.kaggle.com/arnaud58/flickrfaceshq-dataset-ffhq?select=00028.png\n",
    "\n"
   ]
  },
  {
   "cell_type": "code",
   "execution_count": null,
   "metadata": {
    "id": "210FZ8iPQWId"
   },
   "outputs": [],
   "source": [
    "!kaggle datasets download -d arnaud58/flickrfaceshq-dataset-ffhq"
   ]
  },
  {
   "cell_type": "markdown",
   "metadata": {
    "id": "oEexmpwmQyYa"
   },
   "source": [
    "## Chinese fineart dataset \n",
    "https://www.kaggle.com/rickyjli/chinese-fine-art"
   ]
  },
  {
   "cell_type": "code",
   "execution_count": null,
   "metadata": {
    "id": "p7TytAM3ROmK"
   },
   "outputs": [],
   "source": [
    "!kaggle datasets download -d rickyjli/chinese-fine-art"
   ]
  },
  {
   "cell_type": "markdown",
   "metadata": {
    "id": "sgmEb0L5d-ZU"
   },
   "source": [
    "## impressionist-classifier-data\n",
    "\n",
    "https://www.kaggle.com/delayedkarma/impressionist-classifier-data?\n"
   ]
  },
  {
   "cell_type": "code",
   "execution_count": null,
   "metadata": {
    "id": "yA8xAPi2eEZS"
   },
   "outputs": [],
   "source": [
    "!kaggle datasets download -d delayedkarma/impressionist-classifier-data"
   ]
  },
  {
   "cell_type": "markdown",
   "metadata": {
    "id": "Z2fXbJsoeifi"
   },
   "source": [
    "## Paired landscape and Monet-Stylized image\n",
    "\n",
    "https://www.kaggle.com/shcsteven/paired-landscape-and-monetstylised-image?"
   ]
  },
  {
   "cell_type": "code",
   "execution_count": 158,
   "metadata": {
    "colab": {
     "base_uri": "https://localhost:8080/",
     "height": 211
    },
    "id": "PcAkQIfwef-A",
    "outputId": "58cf53b3-e844-4881-ec91-21115ea8ab08"
   },
   "outputs": [
    {
     "name": "stdout",
     "output_type": "stream",
     "text": [
      "Downloading paired-landscape-and-monetstylised-image.zip to /content\n",
      " 67% 2.23G/3.33G [01:16<00:37, 31.4MB/s]\n",
      "User cancelled operation\n",
      "[/content/paired-landscape-and-monetstylised-image.zip]\n",
      "  End-of-central-directory signature not found.  Either this file is not\n",
      "  a zipfile, or it constitutes one disk of a multi-part archive.  In the\n",
      "  latter case the central directory and zipfile comment will be found on\n",
      "  the last disk(s) of this archive.\n",
      "unzip:  cannot find zipfile directory in one of /content/paired-landscape-and-monetstylised-image.zip or\n",
      "        /content/paired-landscape-and-monetstylised-image.zip.zip, and cannot find /content/paired-landscape-and-monetstylised-image.zip.ZIP, period.\n"
     ]
    }
   ],
   "source": [
    "!kaggle datasets download -d shcsteven/paired-landscape-and-monetstylised-image\n",
    "!unzip -q '/content/paired-landscape-and-monetstylised-image.zip'"
   ]
  },
  {
   "cell_type": "code",
   "execution_count": 6,
   "metadata": {
    "id": "zgMWBuf61OmL"
   },
   "outputs": [],
   "source": [
    "# Nicely formatted time string\n",
    "def hms_string(sec_elapsed):\n",
    "    h = int(sec_elapsed / (60 * 60))\n",
    "    m = int((sec_elapsed % (60 * 60)) / 60)\n",
    "    s = sec_elapsed % 60\n",
    "    return \"{}:{:>02}:{:>05.2f}\".format(h, m, s)"
   ]
  },
  {
   "cell_type": "code",
   "execution_count": 7,
   "metadata": {
    "colab": {
     "base_uri": "https://localhost:8080/",
     "height": 52
    },
    "id": "Y8_-1h5ddiDp",
    "outputId": "6bf2a6f9-75e2-480e-89b6-c0371216640c"
   },
   "outputs": [
    {
     "name": "stdout",
     "output_type": "stream",
     "text": [
      "Mounted at /content/drive\n",
      "Note: using Google CoLab\n"
     ]
    }
   ],
   "source": [
    "try:\n",
    "    from google.colab import drive\n",
    "    drive.mount('/content/drive', force_remount=True)\n",
    "    COLAB = True\n",
    "    print(\"Note: using Google CoLab\")\n",
    "    %tensorflow_version 2.x\n",
    "except:\n",
    "    print(\"Note: not using Google CoLab\")\n",
    "    COLAB = False"
   ]
  },
  {
   "cell_type": "code",
   "execution_count": 8,
   "metadata": {
    "id": "KubxTY1mdiDm"
   },
   "outputs": [],
   "source": [
    "import tensorflow as tf\n",
    "from tensorflow.keras.layers import Input, Reshape, Dropout, Dense \n",
    "from tensorflow.keras.layers import Flatten, BatchNormalization\n",
    "from tensorflow.keras.layers import Activation, ZeroPadding2D\n",
    "from tensorflow.keras.layers import LeakyReLU\n",
    "from tensorflow.keras.layers import UpSampling2D, Conv2D\n",
    "from tensorflow.keras.models import Sequential, Model, load_model\n",
    "from tensorflow.keras.optimizers import Adam\n",
    "import numpy as np\n",
    "from PIL import Image\n",
    "from tqdm import tqdm\n",
    "import os \n",
    "import time\n",
    "import matplotlib.pyplot as plt"
   ]
  },
  {
   "cell_type": "code",
   "execution_count": 113,
   "metadata": {
    "id": "n9OtVYUvNr6u"
   },
   "outputs": [],
   "source": [
    "import glob"
   ]
  },
  {
   "cell_type": "markdown",
   "metadata": {
    "id": "09IhCtcuUebZ"
   },
   "source": [
    "**buffer_size** (argument to tf.data.Dataset.shuffle()) -  affects the randomness of the transformation. We designed the Dataset.shuffle() transformation (like the tf.train.shuffle_batch() function that it replaces) to handle datasets that are too large to fit in memory. Instead of shuffling the entire dataset, it maintains a buffer of buffer_size elements, and randomly selects the next element from that buffer (replacing it with the next input element, if one is available). \n",
    "\n",
    "Changing the value of buffer_size affects how uniform the shuffling is: \n",
    "\n",
    "1.   if buffer_size is greater than the number of elements in the dataset, you get a uniform shuffle \n",
    "2.   if it is 1 then you get no shuffling at all. \n",
    "\n",
    "For very large datasets, a typical \"good enough\" approach is to randomly shard the data into multiple files once before training, then shuffle the filenames uniformly, and then use a smaller shuffle buffer. However, the appropriate choice will depend on the exact nature of your training job.\n",
    "\n",
    "(source -  Stackoverflow - https://stackoverflow.com/questions/46444018/meaning-of-buffer-size-in-dataset-map-dataset-prefetch-and-dataset-shuffle)"
   ]
  },
  {
   "cell_type": "markdown",
   "metadata": {
    "id": "-5eslqbFT5VK"
   },
   "source": [
    "#### Test   area"
   ]
  },
  {
   "cell_type": "code",
   "execution_count": null,
   "metadata": {
    "id": "9tYHADtpT2Yz"
   },
   "outputs": [],
   "source": [
    "SEED_SIZE = GENERATE_SQUARE*2\n",
    "SEED_SIZE = 50\n",
    "\n",
    "generator = build_generator(SEED_SIZE, IMAGE_CHANNELS)\n",
    "\n",
    "noise = tf.random.normal([1, SEED_SIZE])\n",
    "generated_image = generator(noise, training=False)\n",
    "\n",
    "plt.imshow(generated_image[0, :, :, 0])"
   ]
  },
  {
   "cell_type": "code",
   "execution_count": null,
   "metadata": {
    "id": "P64_EhN4ZBIa"
   },
   "outputs": [],
   "source": [
    "SEED_SIZE = GENERATE_SQUARE*2\n",
    "\n",
    "generator = build_generator(SEED_SIZE, IMAGE_CHANNELS)\n",
    "\n",
    "noise = tf.random.normal([1, SEED_SIZE])\n",
    "generated_image = generator(noise, training=False)\n",
    "\n",
    "plt.imshow(generated_image[0, :, :, 0])"
   ]
  },
  {
   "cell_type": "code",
   "execution_count": null,
   "metadata": {
    "id": "8Ax4EcHYZDrM"
   },
   "outputs": [],
   "source": [
    "SEED_SIZE = 10000\n",
    "generator = build_generator(SEED_SIZE, IMAGE_CHANNELS)\n",
    "\n",
    "noise = tf.random.normal([1, SEED_SIZE])\n",
    "generated_image = generator(noise, training=False)\n",
    "\n",
    "plt.imshow(generated_image[0, :, :, 0])"
   ]
  },
  {
   "cell_type": "code",
   "execution_count": 117,
   "metadata": {
    "colab": {
     "base_uri": "https://localhost:8080/",
     "height": 34
    },
    "id": "z2Xzk9FeNjLB",
    "outputId": "19753215-5880-40cb-c25e-eb16d9804271"
   },
   "outputs": [
    {
     "data": {
      "text/plain": [
       "['/content/images/images/Alfred_Sisley/training_data_192_192.npy']"
      ]
     },
     "execution_count": 117,
     "metadata": {
      "tags": []
     },
     "output_type": "execute_result"
    }
   ],
   "source": [
    "NUmpy_file = glob.glob(DATA_PATH + '/*.npy')\n",
    "NUmpy_file"
   ]
  },
  {
   "cell_type": "code",
   "execution_count": 119,
   "metadata": {
    "colab": {
     "base_uri": "https://localhost:8080/",
     "height": 52
    },
    "id": "Vn-BIbtGN9f5",
    "outputId": "fec0aada-b2f4-48fb-cdd4-35482a84e2c8"
   },
   "outputs": [
    {
     "name": "stdout",
     "output_type": "stream",
     "text": [
      "mv: cannot stat 'NUmpy_file': No such file or directory\n",
      "['/content/images/images/Alfred_Sisley/training_data_192_192.npy']\n"
     ]
    }
   ],
   "source": [
    "!mv NUmpy_file /content/\n",
    "print(glob.glob(DATA_PATH + '/*.npy'))"
   ]
  },
  {
   "cell_type": "code",
   "execution_count": null,
   "metadata": {
    "id": "am3DbqNmbYj2"
   },
   "outputs": [],
   "source": [
    "#"
   ]
  },
  {
   "cell_type": "markdown",
   "metadata": {
    "id": "cXkVfNjlbZy2"
   },
   "source": [
    "# Start GAN"
   ]
  },
  {
   "cell_type": "code",
   "execution_count": 145,
   "metadata": {
    "colab": {
     "base_uri": "https://localhost:8080/",
     "height": 34
    },
    "id": "tb_XblE7diDr",
    "outputId": "b2608e14-4309-4044-bb3d-38a897bd9374"
   },
   "outputs": [
    {
     "name": "stdout",
     "output_type": "stream",
     "text": [
      "Will generate 192px square images.\n"
     ]
    }
   ],
   "source": [
    "# Generation resolution - Must be squareTraining data is also scaled to this\n",
    "# Note GENERATE_RES 4 or higher will blow Google CoLab's memory and have not been tested extensivly.\n",
    "GENERATE_RES = 6                    # Generation resolution factor   # (1=32, 2=64, 3=96, 4=128, etc.)\n",
    "GENERATE_SQUARE = 32 * GENERATE_RES # rows/cols (should be square)\n",
    "IMAGE_CHANNELS = 3\n",
    "\n",
    "\n",
    "# Preview image that will be saved\n",
    "PREVIEW_ROWS = 10\n",
    "PREVIEW_COLS = 10\n",
    "PREVIEW_MARGIN = 16\n",
    "\n",
    "SEED_SIZE = 50   #GENERATE_SQUARE*2    # Size vector to generate images from\n",
    "\n",
    "# Configuration\n",
    "#DATA_PATH = '/content/resized/resized'\n",
    "#DATA_PATH = '/content/images/images/Alfred_Sisley'\n",
    "DATA_PATH = '/content/Drawings'\n",
    "\n",
    "\n",
    "output_path = '/content/drive/My Drive/projects/output'\n",
    "Model_save_PATH  = '/content/drive/My Drive/projects'\n",
    "\n",
    "EPOCHS = 200\n",
    "BATCH_SIZE = 32\n",
    "#BUFFER_SIZE = 60000\n",
    "BUFFER_SIZE = 50\n",
    "\n",
    "\n",
    "print(f\"Will generate {GENERATE_SQUARE}px square images.\")"
   ]
  },
  {
   "cell_type": "code",
   "execution_count": 146,
   "metadata": {
    "colab": {
     "base_uri": "https://localhost:8080/",
     "height": 104
    },
    "id": "dJ69ALfSdiDv",
    "outputId": "7c4f7959-20eb-4f64-fe5c-3b4fc374dc44"
   },
   "outputs": [
    {
     "name": "stderr",
     "output_type": "stream",
     "text": [
      "  0%|          | 3/1002 [00:00<00:42, 23.52it/s]"
     ]
    },
    {
     "name": "stdout",
     "output_type": "stream",
     "text": [
      "Looking for file: /content/Drawings/training_data_192_192.npy\n",
      "Loading training images...\n"
     ]
    },
    {
     "name": "stderr",
     "output_type": "stream",
     "text": [
      "100%|██████████| 1002/1002 [00:39<00:00, 25.60it/s]\n"
     ]
    },
    {
     "name": "stdout",
     "output_type": "stream",
     "text": [
      "Saving training image binary...\n",
      "Image preprocess time: 0:00:40.89\n"
     ]
    }
   ],
   "source": [
    "# Image set has 11,682 images.  Can take over an hour for initial preprocessing.\n",
    "# Because of this time needed, save a Numpy preprocessed file.\n",
    "\n",
    "# Note, that file is large enough to cause problems for sume verisons of Pickle,so Numpy binary files are used.\n",
    "\n",
    "\n",
    "training_binary_path = os.path.join(DATA_PATH,\n",
    "        f'training_data_{GENERATE_SQUARE}_{GENERATE_SQUARE}.npy')\n",
    "\n",
    "print(f\"Looking for file: {training_binary_path}\")\n",
    "\n",
    "if not os.path.isfile(training_binary_path):\n",
    "  start = time.time()\n",
    "  print(\"Loading training images...\")\n",
    "\n",
    "  training_data = []\n",
    "  faces_path = os.path.join(DATA_PATH)\n",
    "  for filename in tqdm(os.listdir(faces_path)):\n",
    "      path = os.path.join(faces_path,filename)\n",
    "      #img = Image.open(img_name).convert('RGB')\n",
    "      image = Image.open(path).resize((GENERATE_SQUARE,\n",
    "            GENERATE_SQUARE),Image.ANTIALIAS).convert('RGB')   #to convert all files to RGB\n",
    "\n",
    "      training_data.append(np.asarray(image))\n",
    "  training_data = np.reshape(training_data,(-1,GENERATE_SQUARE,\n",
    "            GENERATE_SQUARE,IMAGE_CHANNELS))\n",
    "  training_data = training_data.astype(np.float32)\n",
    "  training_data = (training_data / 127.5) - 1.    #this is to normalize the data \n",
    "                               # value choosen is 127.5 since this is a float 32 type integer.\n",
    "\n",
    "\n",
    "  print(\"Saving training image binary...\")\n",
    "  np.save(training_binary_path,training_data)\n",
    "  elapsed = time.time()-start\n",
    "  print (f'Image preprocess time: {hms_string(elapsed)}')\n",
    "else:\n",
    "  print(\"Loading previous training pickle...\")\n",
    "  training_data = np.load(training_binary_path)"
   ]
  },
  {
   "cell_type": "code",
   "execution_count": 111,
   "metadata": {
    "id": "GfHylW_tJQe1"
   },
   "outputs": [],
   "source": [
    "!mv '/content/images/images/Alfred_Sisley/training_data_128_128.npy' '/content/drive/My Drive/projects/output/alfred_sisley_96_96.npy'"
   ]
  },
  {
   "cell_type": "code",
   "execution_count": null,
   "metadata": {
    "id": "EWwSEcmtI8Zi"
   },
   "outputs": [],
   "source": [
    "#!cp  '/content/drive/My Drive/projects/output/training_data_96_96.npy'  '/content/drive/My Drive/projects/output/All_artist_data_96_96.npy'"
   ]
  },
  {
   "cell_type": "code",
   "execution_count": 147,
   "metadata": {
    "colab": {
     "base_uri": "https://localhost:8080/",
     "height": 52
    },
    "id": "Bys4tse0B3JP",
    "outputId": "04433efb-b575-4a6c-832d-c18d013ad6a4"
   },
   "outputs": [
    {
     "name": "stderr",
     "output_type": "stream",
     "text": [
      "100%|██████████| 1003/1003 [00:00<00:00, 549560.67it/s]"
     ]
    },
    {
     "name": "stdout",
     "output_type": "stream",
     "text": [
      "28346 8\n"
     ]
    },
    {
     "name": "stderr",
     "output_type": "stream",
     "text": [
      "\n"
     ]
    }
   ],
   "source": [
    "faces_path = os.path.join(DATA_PATH)\n",
    "\n",
    "for filename in tqdm(os.listdir(faces_path)):\n",
    "    if 'jpg' in filename:\n",
    "      b += 1\n",
    "    else:\n",
    "      c += 1\n",
    "\n",
    "print(b , c)"
   ]
  },
  {
   "cell_type": "code",
   "execution_count": 148,
   "metadata": {
    "id": "BXl0JohJBx69"
   },
   "outputs": [],
   "source": [
    "# Batch and shuffle the data\n",
    "train_dataset = tf.data.Dataset.from_tensor_slices(training_data) \\\n",
    "    .shuffle(BUFFER_SIZE).batch(BATCH_SIZE)"
   ]
  },
  {
   "cell_type": "code",
   "execution_count": 149,
   "metadata": {
    "id": "Ulou-BZPybzT"
   },
   "outputs": [],
   "source": [
    "def build_generator(seed_size, channels):\n",
    "    model = Sequential()\n",
    "\n",
    "    model.add(Dense(4*4*256,activation=\"relu\",input_dim=seed_size))\n",
    "    model.add(Reshape((4,4,256)))\n",
    "\n",
    "    model.add(UpSampling2D())\n",
    "    model.add(Conv2D(256,kernel_size=3,padding=\"same\"))\n",
    "    model.add(BatchNormalization(momentum=0.8))\n",
    "    model.add(Activation(\"relu\"))\n",
    "\n",
    "    model.add(UpSampling2D())\n",
    "    model.add(Conv2D(256,kernel_size=3,padding=\"same\"))\n",
    "    model.add(BatchNormalization(momentum=0.8))\n",
    "    model.add(Activation(\"relu\"))\n",
    "   \n",
    "    # Output resolution, additional upsampling\n",
    "    model.add(UpSampling2D())\n",
    "    model.add(Conv2D(128,kernel_size=3,padding=\"same\"))\n",
    "    model.add(BatchNormalization(momentum=0.8))\n",
    "    model.add(Activation(\"relu\"))\n",
    "\n",
    "    if GENERATE_RES>1:\n",
    "      model.add(UpSampling2D(size=(GENERATE_RES,GENERATE_RES)))\n",
    "      model.add(Conv2D(128,kernel_size=3,padding=\"same\"))\n",
    "      model.add(BatchNormalization(momentum=0.8))\n",
    "      model.add(Activation(\"relu\"))\n",
    "\n",
    "    # Final CNN layer\n",
    "    model.add(Conv2D(channels,kernel_size=3,padding=\"same\"))\n",
    "    model.add(Activation(\"tanh\"))\n",
    "\n",
    "    print(model.summary())\n",
    "    return model\n",
    "\n",
    "def build_discriminator(image_shape):\n",
    "    model = Sequential()\n",
    "\n",
    "    model.add(Conv2D(32, kernel_size=3, strides=2, input_shape=image_shape, \n",
    "                     padding=\"same\"))\n",
    "    model.add(LeakyReLU(alpha=0.2))\n",
    "\n",
    "    model.add(Dropout(0.25))\n",
    "    model.add(Conv2D(64, kernel_size=3, strides=2, padding=\"same\"))\n",
    "    model.add(ZeroPadding2D(padding=((0,1),(0,1))))\n",
    "    model.add(BatchNormalization(momentum=0.8))\n",
    "    model.add(LeakyReLU(alpha=0.2))\n",
    "\n",
    "    model.add(Dropout(0.25))\n",
    "    model.add(Conv2D(128, kernel_size=3, strides=2, padding=\"same\"))\n",
    "    model.add(BatchNormalization(momentum=0.8))\n",
    "    model.add(LeakyReLU(alpha=0.2))\n",
    "\n",
    "    model.add(Dropout(0.25))\n",
    "    model.add(Conv2D(256, kernel_size=3, strides=1, padding=\"same\"))\n",
    "    model.add(BatchNormalization(momentum=0.8))\n",
    "    model.add(LeakyReLU(alpha=0.2))\n",
    "\n",
    "    model.add(Dropout(0.25))\n",
    "    model.add(Conv2D(512, kernel_size=3, strides=1, padding=\"same\"))\n",
    "    model.add(BatchNormalization(momentum=0.8))\n",
    "    model.add(LeakyReLU(alpha=0.2))\n",
    "\n",
    "    model.add(Dropout(0.25))\n",
    "    model.add(Flatten())\n",
    "    model.add(Dense(1, activation='sigmoid'))\n",
    "\n",
    "    print(model.summary())\n",
    "\n",
    "    return model"
   ]
  },
  {
   "cell_type": "code",
   "execution_count": 150,
   "metadata": {
    "id": "UKnCeDut2cp0"
   },
   "outputs": [],
   "source": [
    "def save_images(cnt,noise):\n",
    "  image_array = np.full(( \n",
    "      PREVIEW_MARGIN + (PREVIEW_ROWS * (GENERATE_SQUARE+PREVIEW_MARGIN)), \n",
    "      PREVIEW_MARGIN + (PREVIEW_COLS * (GENERATE_SQUARE+PREVIEW_MARGIN)), 3), \n",
    "      255, dtype=np.uint8)\n",
    "  \n",
    "  generated_images = generator.predict(noise)\n",
    "\n",
    "  generated_images = 0.5 * generated_images + 0.5\n",
    "\n",
    "  image_count = 0\n",
    "  for row in range(PREVIEW_ROWS):\n",
    "      for col in range(PREVIEW_COLS):\n",
    "        r = row * (GENERATE_SQUARE+16) + PREVIEW_MARGIN\n",
    "        c = col * (GENERATE_SQUARE+16) + PREVIEW_MARGIN\n",
    "        image_array[r:r+GENERATE_SQUARE,c:c+GENERATE_SQUARE] \\\n",
    "            = generated_images[image_count] * 255\n",
    "        image_count += 1\n",
    "   \n",
    "  #output_path = '/content/drive/My Drive/projects/output'\n",
    "  if not os.path.exists(output_path):\n",
    "    os.makedirs(output_path)\n",
    "  \n",
    "  filename = os.path.join(output_path,f\"train-{cnt}.png\")\n",
    "  im = Image.fromarray(image_array)\n",
    "  im.save(filename)"
   ]
  },
  {
   "cell_type": "code",
   "execution_count": 151,
   "metadata": {
    "colab": {
     "base_uri": "https://localhost:8080/",
     "height": 1000
    },
    "id": "gL5byGhNzOzd",
    "outputId": "535f5b6a-30b7-4baa-8a1d-a4f0f51355e9"
   },
   "outputs": [
    {
     "name": "stdout",
     "output_type": "stream",
     "text": [
      "Model: \"sequential_22\"\n",
      "_________________________________________________________________\n",
      "Layer (type)                 Output Shape              Param #   \n",
      "=================================================================\n",
      "dense_22 (Dense)             (None, 4096)              208896    \n",
      "_________________________________________________________________\n",
      "reshape_15 (Reshape)         (None, 4, 4, 256)         0         \n",
      "_________________________________________________________________\n",
      "up_sampling2d_60 (UpSampling (None, 8, 8, 256)         0         \n",
      "_________________________________________________________________\n",
      "conv2d_110 (Conv2D)          (None, 8, 8, 256)         590080    \n",
      "_________________________________________________________________\n",
      "batch_normalization_88 (Batc (None, 8, 8, 256)         1024      \n",
      "_________________________________________________________________\n",
      "activation_75 (Activation)   (None, 8, 8, 256)         0         \n",
      "_________________________________________________________________\n",
      "up_sampling2d_61 (UpSampling (None, 16, 16, 256)       0         \n",
      "_________________________________________________________________\n",
      "conv2d_111 (Conv2D)          (None, 16, 16, 256)       590080    \n",
      "_________________________________________________________________\n",
      "batch_normalization_89 (Batc (None, 16, 16, 256)       1024      \n",
      "_________________________________________________________________\n",
      "activation_76 (Activation)   (None, 16, 16, 256)       0         \n",
      "_________________________________________________________________\n",
      "up_sampling2d_62 (UpSampling (None, 32, 32, 256)       0         \n",
      "_________________________________________________________________\n",
      "conv2d_112 (Conv2D)          (None, 32, 32, 128)       295040    \n",
      "_________________________________________________________________\n",
      "batch_normalization_90 (Batc (None, 32, 32, 128)       512       \n",
      "_________________________________________________________________\n",
      "activation_77 (Activation)   (None, 32, 32, 128)       0         \n",
      "_________________________________________________________________\n",
      "up_sampling2d_63 (UpSampling (None, 192, 192, 128)     0         \n",
      "_________________________________________________________________\n",
      "conv2d_113 (Conv2D)          (None, 192, 192, 128)     147584    \n",
      "_________________________________________________________________\n",
      "batch_normalization_91 (Batc (None, 192, 192, 128)     512       \n",
      "_________________________________________________________________\n",
      "activation_78 (Activation)   (None, 192, 192, 128)     0         \n",
      "_________________________________________________________________\n",
      "conv2d_114 (Conv2D)          (None, 192, 192, 3)       3459      \n",
      "_________________________________________________________________\n",
      "activation_79 (Activation)   (None, 192, 192, 3)       0         \n",
      "=================================================================\n",
      "Total params: 1,838,211\n",
      "Trainable params: 1,836,675\n",
      "Non-trainable params: 1,536\n",
      "_________________________________________________________________\n",
      "None\n"
     ]
    },
    {
     "data": {
      "text/plain": [
       "<matplotlib.image.AxesImage at 0x7f98aa4b94a8>"
      ]
     },
     "execution_count": 151,
     "metadata": {
      "tags": []
     },
     "output_type": "execute_result"
    },
    {
     "data": {
      "image/png": "[encoded data removed]",
      "text/plain": [
       "<Figure size 432x288 with 1 Axes>"
      ]
     },
     "metadata": {
      "needs_background": "light",
      "tags": []
     },
     "output_type": "display_data"
    }
   ],
   "source": [
    "generator = build_generator(SEED_SIZE, IMAGE_CHANNELS)\n",
    "\n",
    "noise = tf.random.normal([1, SEED_SIZE])\n",
    "generated_image = generator(noise, training=False)\n",
    "\n",
    "plt.imshow(generated_image[0, :, :, 0])"
   ]
  },
  {
   "cell_type": "code",
   "execution_count": 152,
   "metadata": {
    "colab": {
     "base_uri": "https://localhost:8080/",
     "height": 34
    },
    "id": "LOnTxIXnyeEQ",
    "outputId": "844a600f-ec12-46f3-c9ab-01c07d9a070c"
   },
   "outputs": [
    {
     "name": "stdout",
     "output_type": "stream",
     "text": [
      "tf.Tensor([[0.49896917]], shape=(1, 1), dtype=float32)\n"
     ]
    }
   ],
   "source": [
    "image_shape = (GENERATE_SQUARE,GENERATE_SQUARE,IMAGE_CHANNELS)\n",
    "\n",
    "discriminator = build_discriminator(image_shape)\n",
    "decision = discriminator(generated_image)\n",
    "print (decision)"
   ]
  },
  {
   "cell_type": "code",
   "execution_count": 153,
   "metadata": {
    "id": "gBaP98zAySJV"
   },
   "outputs": [],
   "source": [
    "# This method returns a helper function to compute cross entropy loss\n",
    "cross_entropy = tf.keras.losses.BinaryCrossentropy(from_logits=True)\n",
    "\n",
    "def discriminator_loss(real_output, fake_output):\n",
    "    real_loss = cross_entropy(tf.ones_like(real_output), real_output)\n",
    "    fake_loss = cross_entropy(tf.zeros_like(fake_output), fake_output)\n",
    "    total_loss = real_loss + fake_loss\n",
    "    return total_loss\n",
    "\n",
    "def generator_loss(fake_output):\n",
    "    return cross_entropy(tf.ones_like(fake_output), fake_output)"
   ]
  },
  {
   "cell_type": "code",
   "execution_count": 154,
   "metadata": {
    "id": "79UDhOCa0R4h"
   },
   "outputs": [],
   "source": [
    "generator_optimizer = tf.keras.optimizers.Adam(1.5e-4,0.5)\n",
    "discriminator_optimizer = tf.keras.optimizers.Adam(1.5e-4,0.5)"
   ]
  },
  {
   "cell_type": "code",
   "execution_count": 155,
   "metadata": {
    "id": "uzyh-LqU0j5d"
   },
   "outputs": [],
   "source": [
    "# Notice the use of `tf.function`\n",
    "# This annotation causes the function to be \"compiled\".\n",
    "@tf.function\n",
    "def train_step(images):\n",
    "  seed = tf.random.normal([BATCH_SIZE, SEED_SIZE])\n",
    "\n",
    "  with tf.GradientTape() as gen_tape, tf.GradientTape() as disc_tape:\n",
    "    generated_images = generator(seed, training=True)\n",
    "\n",
    "    real_output = discriminator(images, training=True)\n",
    "    fake_output = discriminator(generated_images, training=True)\n",
    "\n",
    "    gen_loss = generator_loss(fake_output)\n",
    "    disc_loss = discriminator_loss(real_output, fake_output)\n",
    "    \n",
    "\n",
    "    gradients_of_generator = gen_tape.gradient(\\\n",
    "        gen_loss, generator.trainable_variables)\n",
    "    gradients_of_discriminator = disc_tape.gradient(\\\n",
    "        disc_loss, discriminator.trainable_variables)\n",
    "\n",
    "    generator_optimizer.apply_gradients(zip(\n",
    "        gradients_of_generator, generator.trainable_variables))\n",
    "    discriminator_optimizer.apply_gradients(zip(\n",
    "        gradients_of_discriminator, \n",
    "        discriminator.trainable_variables))\n",
    "  return gen_loss,disc_loss"
   ]
  },
  {
   "cell_type": "code",
   "execution_count": 156,
   "metadata": {
    "id": "NjrRgDR10lSF"
   },
   "outputs": [],
   "source": [
    "def train(dataset, epochs):\n",
    "  fixed_seed = np.random.normal(0, 1, (PREVIEW_ROWS * PREVIEW_COLS, \n",
    "                                       SEED_SIZE))\n",
    "  start = time.time()\n",
    "\n",
    "  for epoch in range(epochs):\n",
    "    epoch_start = time.time()\n",
    "\n",
    "    gen_loss_list = []\n",
    "    disc_loss_list = []\n",
    "\n",
    "    for image_batch in dataset:\n",
    "      t = train_step(image_batch)\n",
    "      gen_loss_list.append(t[0])\n",
    "      disc_loss_list.append(t[1])\n",
    "\n",
    "    g_loss = sum(gen_loss_list) / len(gen_loss_list)\n",
    "    d_loss = sum(disc_loss_list) / len(disc_loss_list)\n",
    "\n",
    "    epoch_elapsed = time.time()-epoch_start\n",
    "    print (f'Epoch {epoch+1}, gen loss={g_loss},disc loss={d_loss},'\\\n",
    "           ' {hms_string(epoch_elapsed)}')\n",
    "    save_images(epoch,fixed_seed)\n",
    "\n",
    "  elapsed = time.time()-start\n",
    "  print (f'Training time: {hms_string(elapsed)}')\n"
   ]
  },
  {
   "cell_type": "code",
   "execution_count": 157,
   "metadata": {
    "colab": {
     "base_uri": "https://localhost:8080/",
     "height": 1000
    },
    "id": "vWmEHprD0t1V",
    "outputId": "d4b4f9e3-ada5-48e0-a48d-26232c67bdb0"
   },
   "outputs": [
    {
     "name": "stdout",
     "output_type": "stream",
     "text": [
      "Epoch 1, gen loss=0.6852952837944031,disc loss=1.388561487197876, {hms_string(epoch_elapsed)}\n",
      "Epoch 2, gen loss=0.6931474804878235,disc loss=1.3862941265106201, {hms_string(epoch_elapsed)}\n",
      "Epoch 3, gen loss=0.6931474804878235,disc loss=1.3862941265106201, {hms_string(epoch_elapsed)}\n",
      "Epoch 4, gen loss=0.6931474804878235,disc loss=1.3862941265106201, {hms_string(epoch_elapsed)}\n",
      "Epoch 5, gen loss=0.6931474804878235,disc loss=1.386293888092041, {hms_string(epoch_elapsed)}\n",
      "Epoch 6, gen loss=0.6931474804878235,disc loss=1.386293888092041, {hms_string(epoch_elapsed)}\n",
      "Epoch 7, gen loss=0.6931474804878235,disc loss=1.3862937688827515, {hms_string(epoch_elapsed)}\n",
      "Epoch 8, gen loss=0.6931474804878235,disc loss=1.3862935304641724, {hms_string(epoch_elapsed)}\n",
      "Epoch 9, gen loss=0.6931473612785339,disc loss=1.3862926959991455, {hms_string(epoch_elapsed)}\n",
      "Epoch 10, gen loss=0.6931469440460205,disc loss=1.386285662651062, {hms_string(epoch_elapsed)}\n",
      "Epoch 11, gen loss=0.3726029396057129,disc loss=1.5875717401504517, {hms_string(epoch_elapsed)}\n",
      "Epoch 12, gen loss=0.3132616877555847,disc loss=1.6265231370925903, {hms_string(epoch_elapsed)}\n",
      "Epoch 13, gen loss=0.3132616877555847,disc loss=1.6265231370925903, {hms_string(epoch_elapsed)}\n",
      "Epoch 14, gen loss=0.3132616877555847,disc loss=1.6265231370925903, {hms_string(epoch_elapsed)}\n",
      "Epoch 15, gen loss=0.3132616877555847,disc loss=1.6265231370925903, {hms_string(epoch_elapsed)}\n",
      "Epoch 16, gen loss=0.3132616877555847,disc loss=1.6265231370925903, {hms_string(epoch_elapsed)}\n",
      "Epoch 17, gen loss=0.3132616877555847,disc loss=1.6265231370925903, {hms_string(epoch_elapsed)}\n",
      "Epoch 18, gen loss=0.3132616877555847,disc loss=1.6265231370925903, {hms_string(epoch_elapsed)}\n",
      "Epoch 19, gen loss=0.3132616877555847,disc loss=1.6265231370925903, {hms_string(epoch_elapsed)}\n",
      "Epoch 20, gen loss=0.3132616877555847,disc loss=1.6265231370925903, {hms_string(epoch_elapsed)}\n",
      "Epoch 21, gen loss=0.3132616877555847,disc loss=1.6265231370925903, {hms_string(epoch_elapsed)}\n",
      "Epoch 22, gen loss=0.3132616877555847,disc loss=1.6265231370925903, {hms_string(epoch_elapsed)}\n",
      "Epoch 23, gen loss=0.3132616877555847,disc loss=1.6265231370925903, {hms_string(epoch_elapsed)}\n",
      "Epoch 24, gen loss=0.3132616877555847,disc loss=1.6265231370925903, {hms_string(epoch_elapsed)}\n",
      "Epoch 25, gen loss=0.3132616877555847,disc loss=1.6265231370925903, {hms_string(epoch_elapsed)}\n",
      "Epoch 26, gen loss=0.3132616877555847,disc loss=1.6265231370925903, {hms_string(epoch_elapsed)}\n",
      "Epoch 27, gen loss=0.3132616877555847,disc loss=1.6265231370925903, {hms_string(epoch_elapsed)}\n",
      "Epoch 28, gen loss=0.3132616877555847,disc loss=1.6265231370925903, {hms_string(epoch_elapsed)}\n",
      "Epoch 29, gen loss=0.3132616877555847,disc loss=1.6265231370925903, {hms_string(epoch_elapsed)}\n",
      "Epoch 30, gen loss=0.3132616877555847,disc loss=1.6265231370925903, {hms_string(epoch_elapsed)}\n",
      "Epoch 31, gen loss=0.3132616877555847,disc loss=1.6265231370925903, {hms_string(epoch_elapsed)}\n",
      "Epoch 32, gen loss=0.3132616877555847,disc loss=1.6265231370925903, {hms_string(epoch_elapsed)}\n",
      "Epoch 33, gen loss=0.3132616877555847,disc loss=1.6265231370925903, {hms_string(epoch_elapsed)}\n",
      "Epoch 34, gen loss=0.3132616877555847,disc loss=1.6265231370925903, {hms_string(epoch_elapsed)}\n",
      "Epoch 35, gen loss=0.3132616877555847,disc loss=1.6265231370925903, {hms_string(epoch_elapsed)}\n",
      "Epoch 36, gen loss=0.3132616877555847,disc loss=1.6265231370925903, {hms_string(epoch_elapsed)}\n",
      "Epoch 37, gen loss=0.3132616877555847,disc loss=1.6265231370925903, {hms_string(epoch_elapsed)}\n",
      "Epoch 38, gen loss=0.3132616877555847,disc loss=1.6265231370925903, {hms_string(epoch_elapsed)}\n",
      "Epoch 39, gen loss=0.3132616877555847,disc loss=1.6265231370925903, {hms_string(epoch_elapsed)}\n",
      "Epoch 40, gen loss=0.3132616877555847,disc loss=1.6265231370925903, {hms_string(epoch_elapsed)}\n",
      "Epoch 41, gen loss=0.3132616877555847,disc loss=1.6265231370925903, {hms_string(epoch_elapsed)}\n",
      "Epoch 42, gen loss=0.3132616877555847,disc loss=1.6265231370925903, {hms_string(epoch_elapsed)}\n",
      "Epoch 43, gen loss=0.3132616877555847,disc loss=1.6265231370925903, {hms_string(epoch_elapsed)}\n",
      "Epoch 44, gen loss=0.3132616877555847,disc loss=1.6265231370925903, {hms_string(epoch_elapsed)}\n",
      "Epoch 45, gen loss=0.3132616877555847,disc loss=1.6265231370925903, {hms_string(epoch_elapsed)}\n",
      "Epoch 46, gen loss=0.3132616877555847,disc loss=1.6265231370925903, {hms_string(epoch_elapsed)}\n",
      "Epoch 47, gen loss=0.3132616877555847,disc loss=1.6265231370925903, {hms_string(epoch_elapsed)}\n",
      "Epoch 48, gen loss=0.3132616877555847,disc loss=1.6265231370925903, {hms_string(epoch_elapsed)}\n",
      "Epoch 49, gen loss=0.3132616877555847,disc loss=1.6265231370925903, {hms_string(epoch_elapsed)}\n",
      "Epoch 50, gen loss=0.3132616877555847,disc loss=1.6265231370925903, {hms_string(epoch_elapsed)}\n",
      "Epoch 51, gen loss=0.3132616877555847,disc loss=1.6265231370925903, {hms_string(epoch_elapsed)}\n",
      "Epoch 52, gen loss=0.3132616877555847,disc loss=1.6265231370925903, {hms_string(epoch_elapsed)}\n",
      "Epoch 53, gen loss=0.3132616877555847,disc loss=1.6265231370925903, {hms_string(epoch_elapsed)}\n",
      "Epoch 54, gen loss=0.3132616877555847,disc loss=1.6265231370925903, {hms_string(epoch_elapsed)}\n",
      "Epoch 55, gen loss=0.3132616877555847,disc loss=1.6265231370925903, {hms_string(epoch_elapsed)}\n",
      "Epoch 56, gen loss=0.3132616877555847,disc loss=1.6265231370925903, {hms_string(epoch_elapsed)}\n",
      "Epoch 57, gen loss=0.3132616877555847,disc loss=1.6265231370925903, {hms_string(epoch_elapsed)}\n",
      "Epoch 58, gen loss=0.3132616877555847,disc loss=1.6265231370925903, {hms_string(epoch_elapsed)}\n",
      "Epoch 59, gen loss=0.3132616877555847,disc loss=1.6265231370925903, {hms_string(epoch_elapsed)}\n",
      "Epoch 60, gen loss=0.3132616877555847,disc loss=1.6265231370925903, {hms_string(epoch_elapsed)}\n",
      "Epoch 61, gen loss=0.3132616877555847,disc loss=1.6265231370925903, {hms_string(epoch_elapsed)}\n",
      "Epoch 62, gen loss=0.3132616877555847,disc loss=1.6265231370925903, {hms_string(epoch_elapsed)}\n",
      "Epoch 63, gen loss=0.3132616877555847,disc loss=1.6265231370925903, {hms_string(epoch_elapsed)}\n",
      "Epoch 64, gen loss=0.3132616877555847,disc loss=1.6265231370925903, {hms_string(epoch_elapsed)}\n",
      "Epoch 65, gen loss=0.3132616877555847,disc loss=1.6265231370925903, {hms_string(epoch_elapsed)}\n",
      "Epoch 66, gen loss=0.3132616877555847,disc loss=1.6265231370925903, {hms_string(epoch_elapsed)}\n",
      "Epoch 67, gen loss=0.3132616877555847,disc loss=1.6265231370925903, {hms_string(epoch_elapsed)}\n",
      "Epoch 68, gen loss=0.3132616877555847,disc loss=1.6265231370925903, {hms_string(epoch_elapsed)}\n",
      "Epoch 69, gen loss=0.3132616877555847,disc loss=1.6265231370925903, {hms_string(epoch_elapsed)}\n",
      "Epoch 70, gen loss=0.3132616877555847,disc loss=1.6265231370925903, {hms_string(epoch_elapsed)}\n",
      "Epoch 71, gen loss=0.3132616877555847,disc loss=1.6265231370925903, {hms_string(epoch_elapsed)}\n",
      "Epoch 72, gen loss=0.3132616877555847,disc loss=1.6265231370925903, {hms_string(epoch_elapsed)}\n",
      "Epoch 73, gen loss=0.3132616877555847,disc loss=1.6265231370925903, {hms_string(epoch_elapsed)}\n",
      "Epoch 74, gen loss=0.3132616877555847,disc loss=1.6265231370925903, {hms_string(epoch_elapsed)}\n",
      "Epoch 75, gen loss=0.3132616877555847,disc loss=1.6265231370925903, {hms_string(epoch_elapsed)}\n",
      "Epoch 76, gen loss=0.3132616877555847,disc loss=1.6265231370925903, {hms_string(epoch_elapsed)}\n",
      "Epoch 77, gen loss=0.3132616877555847,disc loss=1.6265231370925903, {hms_string(epoch_elapsed)}\n",
      "Epoch 78, gen loss=0.3132616877555847,disc loss=1.6265231370925903, {hms_string(epoch_elapsed)}\n",
      "Epoch 79, gen loss=0.3132616877555847,disc loss=1.6265231370925903, {hms_string(epoch_elapsed)}\n",
      "Epoch 80, gen loss=0.3132616877555847,disc loss=1.6265231370925903, {hms_string(epoch_elapsed)}\n",
      "Epoch 81, gen loss=0.3132616877555847,disc loss=1.6265231370925903, {hms_string(epoch_elapsed)}\n",
      "Epoch 82, gen loss=0.3132616877555847,disc loss=1.6265231370925903, {hms_string(epoch_elapsed)}\n",
      "Epoch 83, gen loss=0.3132616877555847,disc loss=1.6265231370925903, {hms_string(epoch_elapsed)}\n",
      "Epoch 84, gen loss=0.3132616877555847,disc loss=1.6265231370925903, {hms_string(epoch_elapsed)}\n",
      "Epoch 85, gen loss=0.3132616877555847,disc loss=1.6265231370925903, {hms_string(epoch_elapsed)}\n",
      "Epoch 86, gen loss=0.3132616877555847,disc loss=1.6265231370925903, {hms_string(epoch_elapsed)}\n",
      "Epoch 87, gen loss=0.3132616877555847,disc loss=1.6265231370925903, {hms_string(epoch_elapsed)}\n",
      "Epoch 88, gen loss=0.3132616877555847,disc loss=1.6265231370925903, {hms_string(epoch_elapsed)}\n",
      "Epoch 89, gen loss=0.3132616877555847,disc loss=1.6265231370925903, {hms_string(epoch_elapsed)}\n",
      "Epoch 90, gen loss=0.3132616877555847,disc loss=1.6265231370925903, {hms_string(epoch_elapsed)}\n",
      "Epoch 91, gen loss=0.3132616877555847,disc loss=1.6265231370925903, {hms_string(epoch_elapsed)}\n",
      "Epoch 92, gen loss=0.3132616877555847,disc loss=1.6265231370925903, {hms_string(epoch_elapsed)}\n",
      "Epoch 93, gen loss=0.3132616877555847,disc loss=1.6265231370925903, {hms_string(epoch_elapsed)}\n",
      "Epoch 94, gen loss=0.3132616877555847,disc loss=1.6265231370925903, {hms_string(epoch_elapsed)}\n",
      "Epoch 95, gen loss=0.3132616877555847,disc loss=1.6265231370925903, {hms_string(epoch_elapsed)}\n",
      "Epoch 96, gen loss=0.3132616877555847,disc loss=1.6265231370925903, {hms_string(epoch_elapsed)}\n",
      "Epoch 97, gen loss=0.3132616877555847,disc loss=1.6265231370925903, {hms_string(epoch_elapsed)}\n",
      "Epoch 98, gen loss=0.3132616877555847,disc loss=1.6265231370925903, {hms_string(epoch_elapsed)}\n",
      "Epoch 99, gen loss=0.3132616877555847,disc loss=1.6265231370925903, {hms_string(epoch_elapsed)}\n",
      "Epoch 100, gen loss=0.3132616877555847,disc loss=1.6265231370925903, {hms_string(epoch_elapsed)}\n",
      "Epoch 101, gen loss=0.3132616877555847,disc loss=1.6265231370925903, {hms_string(epoch_elapsed)}\n",
      "Epoch 102, gen loss=0.3132616877555847,disc loss=1.6265231370925903, {hms_string(epoch_elapsed)}\n",
      "Epoch 103, gen loss=0.3132616877555847,disc loss=1.6265231370925903, {hms_string(epoch_elapsed)}\n",
      "Epoch 104, gen loss=0.3132616877555847,disc loss=1.6265231370925903, {hms_string(epoch_elapsed)}\n",
      "Epoch 105, gen loss=0.3132616877555847,disc loss=1.6265231370925903, {hms_string(epoch_elapsed)}\n",
      "Epoch 106, gen loss=0.3132616877555847,disc loss=1.6265231370925903, {hms_string(epoch_elapsed)}\n",
      "Epoch 107, gen loss=0.3132616877555847,disc loss=1.6265231370925903, {hms_string(epoch_elapsed)}\n",
      "Epoch 108, gen loss=0.3132616877555847,disc loss=1.6265231370925903, {hms_string(epoch_elapsed)}\n",
      "Epoch 109, gen loss=0.3132616877555847,disc loss=1.6265231370925903, {hms_string(epoch_elapsed)}\n",
      "Epoch 110, gen loss=0.3132616877555847,disc loss=1.6265231370925903, {hms_string(epoch_elapsed)}\n",
      "Epoch 111, gen loss=0.3132616877555847,disc loss=1.6265231370925903, {hms_string(epoch_elapsed)}\n",
      "Epoch 112, gen loss=0.3132616877555847,disc loss=1.6265231370925903, {hms_string(epoch_elapsed)}\n",
      "Epoch 113, gen loss=0.3132616877555847,disc loss=1.6265231370925903, {hms_string(epoch_elapsed)}\n",
      "Epoch 114, gen loss=0.3132616877555847,disc loss=1.6265231370925903, {hms_string(epoch_elapsed)}\n",
      "Epoch 115, gen loss=0.3132616877555847,disc loss=1.6265231370925903, {hms_string(epoch_elapsed)}\n",
      "Epoch 116, gen loss=0.3132616877555847,disc loss=1.6265231370925903, {hms_string(epoch_elapsed)}\n",
      "Epoch 117, gen loss=0.3132616877555847,disc loss=1.6265231370925903, {hms_string(epoch_elapsed)}\n",
      "Epoch 118, gen loss=0.3132616877555847,disc loss=1.6265231370925903, {hms_string(epoch_elapsed)}\n",
      "Epoch 119, gen loss=0.3132616877555847,disc loss=1.6265231370925903, {hms_string(epoch_elapsed)}\n",
      "Epoch 120, gen loss=0.3132616877555847,disc loss=1.6265231370925903, {hms_string(epoch_elapsed)}\n",
      "Epoch 121, gen loss=0.3132616877555847,disc loss=1.6265231370925903, {hms_string(epoch_elapsed)}\n",
      "Epoch 122, gen loss=0.3132616877555847,disc loss=1.6265231370925903, {hms_string(epoch_elapsed)}\n",
      "Epoch 123, gen loss=0.3132616877555847,disc loss=1.6265231370925903, {hms_string(epoch_elapsed)}\n",
      "Epoch 124, gen loss=0.3132616877555847,disc loss=1.6265231370925903, {hms_string(epoch_elapsed)}\n",
      "Epoch 125, gen loss=0.3132616877555847,disc loss=1.6265231370925903, {hms_string(epoch_elapsed)}\n",
      "Epoch 126, gen loss=0.3132616877555847,disc loss=1.6265231370925903, {hms_string(epoch_elapsed)}\n",
      "Epoch 127, gen loss=0.3132616877555847,disc loss=1.6265231370925903, {hms_string(epoch_elapsed)}\n",
      "Epoch 128, gen loss=0.3132616877555847,disc loss=1.6265231370925903, {hms_string(epoch_elapsed)}\n",
      "Epoch 129, gen loss=0.3132616877555847,disc loss=1.6265231370925903, {hms_string(epoch_elapsed)}\n",
      "Epoch 130, gen loss=0.3132616877555847,disc loss=1.6265231370925903, {hms_string(epoch_elapsed)}\n",
      "Epoch 131, gen loss=0.3132616877555847,disc loss=1.6265231370925903, {hms_string(epoch_elapsed)}\n",
      "Epoch 132, gen loss=0.3132616877555847,disc loss=1.6265231370925903, {hms_string(epoch_elapsed)}\n",
      "Epoch 133, gen loss=0.3132616877555847,disc loss=1.6265231370925903, {hms_string(epoch_elapsed)}\n",
      "Epoch 134, gen loss=0.3132616877555847,disc loss=1.6265231370925903, {hms_string(epoch_elapsed)}\n",
      "Epoch 135, gen loss=0.3132616877555847,disc loss=1.6265231370925903, {hms_string(epoch_elapsed)}\n",
      "Epoch 136, gen loss=0.3132616877555847,disc loss=1.6265231370925903, {hms_string(epoch_elapsed)}\n",
      "Epoch 137, gen loss=0.3132616877555847,disc loss=1.6265231370925903, {hms_string(epoch_elapsed)}\n",
      "Epoch 138, gen loss=0.3132616877555847,disc loss=1.6265231370925903, {hms_string(epoch_elapsed)}\n",
      "Epoch 139, gen loss=0.3132616877555847,disc loss=1.6265231370925903, {hms_string(epoch_elapsed)}\n",
      "Epoch 140, gen loss=0.3132616877555847,disc loss=1.6265231370925903, {hms_string(epoch_elapsed)}\n",
      "Epoch 141, gen loss=0.3132616877555847,disc loss=1.6265231370925903, {hms_string(epoch_elapsed)}\n",
      "Epoch 142, gen loss=0.3132616877555847,disc loss=1.6265231370925903, {hms_string(epoch_elapsed)}\n",
      "Epoch 143, gen loss=0.3132616877555847,disc loss=1.6265231370925903, {hms_string(epoch_elapsed)}\n",
      "Epoch 144, gen loss=0.3132616877555847,disc loss=1.6265231370925903, {hms_string(epoch_elapsed)}\n",
      "Epoch 145, gen loss=0.3132616877555847,disc loss=1.6265231370925903, {hms_string(epoch_elapsed)}\n",
      "Epoch 146, gen loss=0.3132616877555847,disc loss=1.6265231370925903, {hms_string(epoch_elapsed)}\n",
      "Epoch 147, gen loss=0.3132616877555847,disc loss=1.6265231370925903, {hms_string(epoch_elapsed)}\n",
      "Epoch 148, gen loss=0.3132616877555847,disc loss=1.6265231370925903, {hms_string(epoch_elapsed)}\n",
      "Epoch 149, gen loss=0.3132616877555847,disc loss=1.6265231370925903, {hms_string(epoch_elapsed)}\n",
      "Epoch 150, gen loss=0.3132616877555847,disc loss=1.6265231370925903, {hms_string(epoch_elapsed)}\n",
      "Epoch 151, gen loss=0.3132616877555847,disc loss=1.6265231370925903, {hms_string(epoch_elapsed)}\n",
      "Epoch 152, gen loss=0.3132616877555847,disc loss=1.6265231370925903, {hms_string(epoch_elapsed)}\n",
      "Epoch 153, gen loss=0.3132616877555847,disc loss=1.6265231370925903, {hms_string(epoch_elapsed)}\n",
      "Epoch 154, gen loss=0.3132616877555847,disc loss=1.6265231370925903, {hms_string(epoch_elapsed)}\n",
      "Epoch 155, gen loss=0.3132616877555847,disc loss=1.6265231370925903, {hms_string(epoch_elapsed)}\n",
      "Epoch 156, gen loss=0.3132616877555847,disc loss=1.6265231370925903, {hms_string(epoch_elapsed)}\n",
      "Epoch 157, gen loss=0.3132616877555847,disc loss=1.6265231370925903, {hms_string(epoch_elapsed)}\n",
      "Epoch 158, gen loss=0.3132616877555847,disc loss=1.6265231370925903, {hms_string(epoch_elapsed)}\n",
      "Epoch 159, gen loss=0.3132616877555847,disc loss=1.6265231370925903, {hms_string(epoch_elapsed)}\n",
      "Epoch 160, gen loss=0.3132616877555847,disc loss=1.6265231370925903, {hms_string(epoch_elapsed)}\n",
      "Epoch 161, gen loss=0.3132616877555847,disc loss=1.6265231370925903, {hms_string(epoch_elapsed)}\n",
      "Epoch 162, gen loss=0.3132616877555847,disc loss=1.6265231370925903, {hms_string(epoch_elapsed)}\n",
      "Epoch 163, gen loss=0.3132616877555847,disc loss=1.6265231370925903, {hms_string(epoch_elapsed)}\n",
      "Epoch 164, gen loss=0.3132616877555847,disc loss=1.6265231370925903, {hms_string(epoch_elapsed)}\n",
      "Epoch 165, gen loss=0.3132616877555847,disc loss=1.6265231370925903, {hms_string(epoch_elapsed)}\n",
      "Epoch 166, gen loss=0.3132616877555847,disc loss=1.6265231370925903, {hms_string(epoch_elapsed)}\n",
      "Epoch 167, gen loss=0.3132616877555847,disc loss=1.6265231370925903, {hms_string(epoch_elapsed)}\n",
      "Epoch 168, gen loss=0.3132616877555847,disc loss=1.6265231370925903, {hms_string(epoch_elapsed)}\n",
      "Epoch 169, gen loss=0.3132616877555847,disc loss=1.6265231370925903, {hms_string(epoch_elapsed)}\n",
      "Epoch 170, gen loss=0.3132616877555847,disc loss=1.6265231370925903, {hms_string(epoch_elapsed)}\n",
      "Epoch 171, gen loss=0.3132616877555847,disc loss=1.6265231370925903, {hms_string(epoch_elapsed)}\n",
      "Epoch 172, gen loss=0.3132616877555847,disc loss=1.6265231370925903, {hms_string(epoch_elapsed)}\n",
      "Epoch 173, gen loss=0.3132616877555847,disc loss=1.6265231370925903, {hms_string(epoch_elapsed)}\n",
      "Epoch 174, gen loss=0.3132616877555847,disc loss=1.6265231370925903, {hms_string(epoch_elapsed)}\n",
      "Epoch 175, gen loss=0.3132616877555847,disc loss=1.6265231370925903, {hms_string(epoch_elapsed)}\n",
      "Epoch 176, gen loss=0.3132616877555847,disc loss=1.6265231370925903, {hms_string(epoch_elapsed)}\n",
      "Epoch 177, gen loss=0.3132616877555847,disc loss=1.6265231370925903, {hms_string(epoch_elapsed)}\n",
      "Epoch 178, gen loss=0.3132616877555847,disc loss=1.6265231370925903, {hms_string(epoch_elapsed)}\n",
      "Epoch 179, gen loss=0.3132616877555847,disc loss=1.6265231370925903, {hms_string(epoch_elapsed)}\n",
      "Epoch 180, gen loss=0.3132616877555847,disc loss=1.6265231370925903, {hms_string(epoch_elapsed)}\n",
      "Epoch 181, gen loss=0.3132616877555847,disc loss=1.6265231370925903, {hms_string(epoch_elapsed)}\n",
      "Epoch 182, gen loss=0.3132616877555847,disc loss=1.6265231370925903, {hms_string(epoch_elapsed)}\n",
      "Epoch 183, gen loss=0.3132616877555847,disc loss=1.6265231370925903, {hms_string(epoch_elapsed)}\n",
      "Epoch 184, gen loss=0.3132616877555847,disc loss=1.6265231370925903, {hms_string(epoch_elapsed)}\n",
      "Epoch 185, gen loss=0.3132616877555847,disc loss=1.6265231370925903, {hms_string(epoch_elapsed)}\n",
      "Epoch 186, gen loss=0.3132616877555847,disc loss=1.6265231370925903, {hms_string(epoch_elapsed)}\n",
      "Epoch 187, gen loss=0.3132616877555847,disc loss=1.6265231370925903, {hms_string(epoch_elapsed)}\n",
      "Epoch 188, gen loss=0.3132616877555847,disc loss=1.6265231370925903, {hms_string(epoch_elapsed)}\n",
      "Epoch 189, gen loss=0.3132616877555847,disc loss=1.6265231370925903, {hms_string(epoch_elapsed)}\n",
      "Epoch 190, gen loss=0.3132616877555847,disc loss=1.6265231370925903, {hms_string(epoch_elapsed)}\n",
      "Epoch 191, gen loss=0.3132616877555847,disc loss=1.6265231370925903, {hms_string(epoch_elapsed)}\n",
      "Epoch 192, gen loss=0.3132616877555847,disc loss=1.6265231370925903, {hms_string(epoch_elapsed)}\n",
      "Epoch 193, gen loss=0.3132616877555847,disc loss=1.6265231370925903, {hms_string(epoch_elapsed)}\n",
      "Epoch 194, gen loss=0.3132616877555847,disc loss=1.6265231370925903, {hms_string(epoch_elapsed)}\n",
      "Epoch 195, gen loss=0.3132616877555847,disc loss=1.6265231370925903, {hms_string(epoch_elapsed)}\n",
      "Epoch 196, gen loss=0.3132616877555847,disc loss=1.6265231370925903, {hms_string(epoch_elapsed)}\n",
      "Epoch 197, gen loss=0.3132616877555847,disc loss=1.6265231370925903, {hms_string(epoch_elapsed)}\n",
      "Epoch 198, gen loss=0.3132616877555847,disc loss=1.6265231370925903, {hms_string(epoch_elapsed)}\n",
      "Epoch 199, gen loss=0.3132616877555847,disc loss=1.6265231370925903, {hms_string(epoch_elapsed)}\n",
      "Epoch 200, gen loss=0.3132616877555847,disc loss=1.6265231370925903, {hms_string(epoch_elapsed)}\n",
      "Training time: 1:22:45.43\n"
     ]
    }
   ],
   "source": [
    "train(train_dataset, EPOCHS)"
   ]
  },
  {
   "cell_type": "code",
   "execution_count": 75,
   "metadata": {
    "id": "15Hia_feD9sm"
   },
   "outputs": [],
   "source": [
    "generator.save(os.path.join(Model_save_PATH ,\"face_generator5by7.h5\"))"
   ]
  },
  {
   "cell_type": "code",
   "execution_count": 75,
   "metadata": {
    "id": "B6ZU62tGlw3F"
   },
   "outputs": [],
   "source": []
  }
 ],
 "metadata": {
  "accelerator": "GPU",
  "anaconda-cloud": {},
  "colab": {
   "collapsed_sections": [],
   "name": "Artworks - Keras_gan.ipynb",
   "provenance": []
  },
  "kernelspec": {
   "display_name": "Python 3",
   "language": "python",
   "name": "python3"
  },
  "language_info": {
   "codemirror_mode": {
    "name": "ipython",
    "version": 3
   },
   "file_extension": ".py",
   "mimetype": "text/x-python",
   "name": "python",
   "nbconvert_exporter": "python",
   "pygments_lexer": "ipython3",
   "version": "3.8.5"
  }
 },
 "nbformat": 4,
 "nbformat_minor": 1
}
