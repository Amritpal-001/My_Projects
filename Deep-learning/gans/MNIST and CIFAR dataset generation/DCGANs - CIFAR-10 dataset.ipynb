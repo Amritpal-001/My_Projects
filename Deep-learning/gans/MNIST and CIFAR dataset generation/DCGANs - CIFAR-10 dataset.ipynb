{
 "cells": [
  {
   "cell_type": "markdown",
   "metadata": {
    "id": "rF2x3qooyBTI"
   },
   "source": [
    "# CIFAR-10 dataset using DCGANs\n",
    "\n",
    "Deep Convolutional Generative Adversarial Network"
   ]
  },
  {
   "cell_type": "markdown",
   "metadata": {
    "id": "VSDxB7eKjidz"
   },
   "source": [
    "useful articles to get started\n",
    "\n",
    "\n",
    "- https://developers.google.com/machine-learning/gan   #Google devolper tutorials\n",
    "- https://www.tensorflow.org/tutorials/generative/dcgan     #TF tutorials >>> train from scratch\n",
    "- https://www.tensorflow.org/hub/tutorials/tf_hub_generative_image_module #TF  hub tutorials  >> uses Pretrained models\n",
    "- https://towardsdatascience.com/pix2pix-869c17900998\n",
    "\n",
    "\n",
    "\n",
    "\n",
    "---\n",
    "\n",
    "\n",
    "\n",
    "\n",
    "**Problems while trainig GANs**\n",
    "- https://developers.google.com/machine-learning/gan/problems\n",
    "- https://www.quora.com/What-does-it-mean-if-all-produced-images-of-a-GAN-look-the-same\n",
    "\n",
    "\n",
    "\n",
    "---\n",
    "\n",
    "\n",
    "**My GAN notebooks**\n",
    "- [intro_to_DCGANS](https://colab.research.google.com/drive/1e4mo3yyg1isOGy6fL0ePJ1qNjSVJEXke#scrollTo=ZvbJIqxpHMnN)\n",
    "- [Pix2Pix](https://colab.research.google.com/drive/1K6SVVMpvTKShjRrFuGhg321erc2-B-lw#scrollTo=sRHEY2l5rT_q)\n",
    "- [Cycle GANs](https://colab.research.google.com/drive/1RbgL9qMDbPxCE2nQyNniww6zzaziri15)\n"
   ]
  },
  {
   "cell_type": "code",
   "execution_count": 1,
   "metadata": {
    "executionInfo": {
     "elapsed": 3549,
     "status": "ok",
     "timestamp": 1607597906587,
     "user": {
      "displayName": "Amrit Pal Singh",
      "photoUrl": "",
      "userId": "02634295327518435662"
     },
     "user_tz": -330
    },
    "id": "WZKbyU2-AiY-"
   },
   "outputs": [],
   "source": [
    "import tensorflow as tf"
   ]
  },
  {
   "cell_type": "code",
   "execution_count": 2,
   "metadata": {
    "colab": {
     "base_uri": "https://localhost:8080/",
     "height": 35
    },
    "executionInfo": {
     "elapsed": 3536,
     "status": "ok",
     "timestamp": 1607597906595,
     "user": {
      "displayName": "Amrit Pal Singh",
      "photoUrl": "",
      "userId": "02634295327518435662"
     },
     "user_tz": -330
    },
    "id": "wx-zNbLqB4K8",
    "outputId": "a8f0e8bf-6ff5-4304-f2a8-6d508d7c4366"
   },
   "outputs": [
    {
     "data": {
      "application/vnd.google.colaboratory.intrinsic+json": {
       "type": "string"
      },
      "text/plain": [
       "'2.3.0'"
      ]
     },
     "execution_count": 2,
     "metadata": {
      "tags": []
     },
     "output_type": "execute_result"
    }
   ],
   "source": [
    "tf.__version__"
   ]
  },
  {
   "cell_type": "code",
   "execution_count": 3,
   "metadata": {
    "colab": {
     "base_uri": "https://localhost:8080/"
    },
    "executionInfo": {
     "elapsed": 6289,
     "status": "ok",
     "timestamp": 1607597909356,
     "user": {
      "displayName": "Amrit Pal Singh",
      "photoUrl": "",
      "userId": "02634295327518435662"
     },
     "user_tz": -330
    },
    "id": "YzTlj4YdCip_",
    "outputId": "ad50e822-df58-4211-d9d3-3445008769f6"
   },
   "outputs": [
    {
     "name": "stdout",
     "output_type": "stream",
     "text": [
      "Requirement already satisfied: imageio in /usr/local/lib/python3.6/dist-packages (2.4.1)\n",
      "Requirement already satisfied: pillow in /usr/local/lib/python3.6/dist-packages (from imageio) (7.0.0)\n",
      "Requirement already satisfied: numpy in /usr/local/lib/python3.6/dist-packages (from imageio) (1.18.5)\n"
     ]
    }
   ],
   "source": [
    "# To generate GIFs\n",
    "!pip install imageio\n",
    "#!pip install git+https://github.com/tensorflow/docs"
   ]
  },
  {
   "cell_type": "code",
   "execution_count": 2,
   "metadata": {
    "executionInfo": {
     "elapsed": 6051,
     "status": "ok",
     "timestamp": 1607600095492,
     "user": {
      "displayName": "Amrit Pal Singh",
      "photoUrl": "",
      "userId": "02634295327518435662"
     },
     "user_tz": -330
    },
    "id": "R6Xpohem-EPL"
   },
   "outputs": [],
   "source": [
    "import glob\n",
    "import imageio\n",
    "import numpy as np\n",
    "import PIL\n",
    "from PIL import Image\n",
    "import matplotlib.pyplot as plt\n",
    "import os\n",
    "\n",
    "import tensorflow as tf\n",
    "from tensorflow.keras import layers\n",
    "from tensorflow.keras import preprocessing\n",
    "from tensorflow.keras.models import Sequential\n",
    "from tensorflow.keras.layers import Conv2D,Dropout,Dense,Flatten,Conv2DTranspose,BatchNormalization,LeakyReLU,Reshape\n",
    "\n",
    "import time\n",
    "from IPython import display"
   ]
  },
  {
   "cell_type": "markdown",
   "metadata": {
    "id": "iYn4MdZnKCey"
   },
   "source": [
    "###### Load and prepare the dataset"
   ]
  },
  {
   "cell_type": "code",
   "execution_count": null,
   "metadata": {
    "colab": {
     "base_uri": "https://localhost:8080/"
    },
    "executionInfo": {
     "elapsed": 4004,
     "status": "ok",
     "timestamp": 1607527233687,
     "user": {
      "displayName": "Amrit Pal Singh",
      "photoUrl": "",
      "userId": "02634295327518435662"
     },
     "user_tz": -330
    },
    "id": "a4fYMGxGhrna",
    "outputId": "77bcb21c-ac7e-4ae3-fd32-3b01fa8f6b4c"
   },
   "outputs": [
    {
     "name": "stdout",
     "output_type": "stream",
     "text": [
      "Downloading data from https://storage.googleapis.com/tensorflow/tf-keras-datasets/mnist.npz\n",
      "11493376/11490434 [==============================] - 0s 0us/step\n",
      "<class 'numpy.ndarray'>\n",
      "60000 28 28\n"
     ]
    }
   ],
   "source": [
    "(train_images, train_labels), (_, _) = tf.keras.datasets.mnist.load_data()\n",
    "print(type(train_images))\n",
    "print(train_images.shape[0] , train_images.shape[1],train_images.shape[2])"
   ]
  },
  {
   "cell_type": "code",
   "execution_count": null,
   "metadata": {
    "colab": {
     "base_uri": "https://localhost:8080/"
    },
    "executionInfo": {
     "elapsed": 2992,
     "status": "ok",
     "timestamp": 1607527234190,
     "user": {
      "displayName": "Amrit Pal Singh",
      "photoUrl": "",
      "userId": "02634295327518435662"
     },
     "user_tz": -330
    },
    "id": "-TvPiVbvrQ99",
    "outputId": "71860e44-5103-4fb5-a9f7-9ffcc3fef928"
   },
   "outputs": [
    {
     "name": "stdout",
     "output_type": "stream",
     "text": [
      "Downloading data from https://storage.googleapis.com/tensorflow/tf-keras-datasets/train-labels-idx1-ubyte.gz\n",
      "32768/29515 [=================================] - 0s 0us/step\n",
      "Downloading data from https://storage.googleapis.com/tensorflow/tf-keras-datasets/train-images-idx3-ubyte.gz\n",
      "26427392/26421880 [==============================] - 0s 0us/step\n",
      "Downloading data from https://storage.googleapis.com/tensorflow/tf-keras-datasets/t10k-labels-idx1-ubyte.gz\n",
      "8192/5148 [===============================================] - 0s 0us/step\n",
      "Downloading data from https://storage.googleapis.com/tensorflow/tf-keras-datasets/t10k-images-idx3-ubyte.gz\n",
      "4423680/4422102 [==============================] - 0s 0us/step\n"
     ]
    }
   ],
   "source": [
    "(train_images, train_labels), (_, _) = tf.keras.datasets.fashion_mnist.load_data()"
   ]
  },
  {
   "cell_type": "code",
   "execution_count": null,
   "metadata": {
    "id": "NFC2ghIdiZYE"
   },
   "outputs": [],
   "source": [
    "train_images = train_images.reshape(train_images.shape[0], 28, 28, 1).astype('float32')\n",
    "train_images = (train_images - 127.5) / 127.5 # Normalize the images to [-1, 1]"
   ]
  },
  {
   "cell_type": "markdown",
   "metadata": {
    "id": "pIUU5jjuFyal"
   },
   "source": [
    "#### CIFAR10 dataset"
   ]
  },
  {
   "cell_type": "code",
   "execution_count": 127,
   "metadata": {
    "colab": {
     "base_uri": "https://localhost:8080/"
    },
    "executionInfo": {
     "elapsed": 1631,
     "status": "ok",
     "timestamp": 1607605515462,
     "user": {
      "displayName": "Amrit Pal Singh",
      "photoUrl": "",
      "userId": "02634295327518435662"
     },
     "user_tz": -330
    },
    "id": "iJcq0iwB_y_d",
    "outputId": "b07f1066-d61f-4fc5-a0ba-4a842cdb5ef0"
   },
   "outputs": [
    {
     "name": "stdout",
     "output_type": "stream",
     "text": [
      "<class 'numpy.ndarray'>\n",
      "50000 32 32 3\n"
     ]
    }
   ],
   "source": [
    "(train_images, train_labels), (_, _) = tf.keras.datasets.cifar10.load_data()\n",
    "print(type(train_images))\n",
    "print(train_images.shape[0] , train_images.shape[1],train_images.shape[2], train_images.shape[3])"
   ]
  },
  {
   "cell_type": "code",
   "execution_count": 128,
   "metadata": {
    "colab": {
     "base_uri": "https://localhost:8080/"
    },
    "executionInfo": {
     "elapsed": 4793,
     "status": "ok",
     "timestamp": 1607605519014,
     "user": {
      "displayName": "Amrit Pal Singh",
      "photoUrl": "",
      "userId": "02634295327518435662"
     },
     "user_tz": -330
    },
    "id": "vX6grDDV11Ta",
    "outputId": "1840c20d-929a-4c72-b0cc-20ebd5a12ee3"
   },
   "outputs": [
    {
     "name": "stdout",
     "output_type": "stream",
     "text": [
      "<class 'numpy.ndarray'>\n",
      "50000 28 28\n"
     ]
    }
   ],
   "source": [
    "new_data = []\n",
    "\n",
    "for i in range(len(train_images)):\n",
    "  #data = Image.fromarray(train_images[i,:,:])    #RGB mode\n",
    "  data = Image.fromarray(train_images[i,:,:]).convert('L')  # B$W mode\n",
    "  #data.show\n",
    "  new_data.append(np.asarray(data.resize((28,28))))\n",
    "\n",
    "train_images = np.asarray(new_data)\n",
    "print(type(train_images))\n",
    "#print(train_images.shape[0] , train_images.shape[1],train_images.shape[2] , train_images.shape[3])  # for RGB mode\n",
    "print(train_images.shape[0] , train_images.shape[1],train_images.shape[2] )   #for B$W moide"
   ]
  },
  {
   "cell_type": "code",
   "execution_count": null,
   "metadata": {
    "executionInfo": {
     "elapsed": 1250,
     "status": "aborted",
     "timestamp": 1607605507571,
     "user": {
      "displayName": "Amrit Pal Singh",
      "photoUrl": "",
      "userId": "02634295327518435662"
     },
     "user_tz": -330
    },
    "id": "k_yGSOgWu7XN"
   },
   "outputs": [],
   "source": [
    "#confirm b$w mode\n",
    "\n",
    "print(train_images.shape[3] )   #genertes error     "
   ]
  },
  {
   "cell_type": "code",
   "execution_count": 129,
   "metadata": {
    "colab": {
     "base_uri": "https://localhost:8080/",
     "height": 282
    },
    "executionInfo": {
     "elapsed": 1255,
     "status": "ok",
     "timestamp": 1607605526100,
     "user": {
      "displayName": "Amrit Pal Singh",
      "photoUrl": "",
      "userId": "02634295327518435662"
     },
     "user_tz": -330
    },
    "id": "ihEEBzp2ZqqR",
    "outputId": "bef54adf-2a7a-45ad-8fcb-b9e49441adae"
   },
   "outputs": [
    {
     "data": {
      "text/plain": [
       "<matplotlib.image.AxesImage at 0x7f4e4c520dd8>"
      ]
     },
     "execution_count": 129,
     "metadata": {
      "tags": []
     },
     "output_type": "execute_result"
    },
    {
     "data": {
      "image/png": "[encoded data removed]",
      "text/plain": [
       "<Figure size 432x288 with 1 Axes>"
      ]
     },
     "metadata": {
      "needs_background": "light",
      "tags": []
     },
     "output_type": "display_data"
    }
   ],
   "source": [
    "from matplotlib import pyplot as plt\n",
    "my_image = train_images[3,:,:]\n",
    "plt.imshow(my_image, cmap='gray')"
   ]
  },
  {
   "cell_type": "markdown",
   "metadata": {
    "id": "yEGbMDx7mmfp"
   },
   "source": [
    "**Normalize the images to [-1, 1]** \n",
    "\n",
    "\n",
    "Why input images are normalized to [-1, 1] at the very beginning?\n",
    "\n",
    "- https://github.com/junyanz/pytorch-CycleGAN-and-pix2pix/issues/550\n",
    "- in depth answers - https://sthalles.github.io/advanced_gans/\n",
    "- https://stats.stackexchange.com/questions/360066/does-it-make-sense-to-preprocess-normalise-or-standardise-this-data-for-gan"
   ]
  },
  {
   "cell_type": "code",
   "execution_count": 130,
   "metadata": {
    "executionInfo": {
     "elapsed": 1222,
     "status": "ok",
     "timestamp": 1607605530490,
     "user": {
      "displayName": "Amrit Pal Singh",
      "photoUrl": "",
      "userId": "02634295327518435662"
     },
     "user_tz": -330
    },
    "id": "advR48N77WK_"
   },
   "outputs": [],
   "source": [
    "#  b$w\n",
    "train_images = train_images.reshape(train_images.shape[0], 28, 28, 1).astype('float32')    #to add 1 to the dimension\n",
    "train_images = (train_images - 127.5) / 127.5 # Normalize the images to [-1, 1]          #worked(visually) for black and white, not so much for colored images"
   ]
  },
  {
   "cell_type": "code",
   "execution_count": null,
   "metadata": {
    "id": "pQ45hJpH4p7O"
   },
   "outputs": [],
   "source": [
    "#if coloured\n",
    "#train_images = (train_images - 255) / 255    #for coloured images >>> \n",
    "#  But 255 alos does the same??  Bad idea??? >>> centre it around 0 so noramlaize for -1, 1\n",
    "\n",
    "\n",
    "fig = plt.figure()\n",
    "fig.set_figheight(10)\n",
    "fig.set_figwidth(10)\n",
    "\n",
    "for i in range(0,25):\n",
    "  my_image = train_images[i,:,:]\n",
    "  plt.subplot(5,5,i+1)\n",
    "  plt.imshow(my_image, cmap='gray')"
   ]
  },
  {
   "cell_type": "code",
   "execution_count": 131,
   "metadata": {
    "executionInfo": {
     "elapsed": 1416,
     "status": "ok",
     "timestamp": 1607605535081,
     "user": {
      "displayName": "Amrit Pal Singh",
      "photoUrl": "",
      "userId": "02634295327518435662"
     },
     "user_tz": -330
    },
    "id": "S4PIDhoDLbsZ"
   },
   "outputs": [],
   "source": [
    "BUFFER_SIZE = 60000\n",
    "BATCH_SIZE = 256"
   ]
  },
  {
   "cell_type": "code",
   "execution_count": 132,
   "metadata": {
    "executionInfo": {
     "elapsed": 1071,
     "status": "ok",
     "timestamp": 1607605535082,
     "user": {
      "displayName": "Amrit Pal Singh",
      "photoUrl": "",
      "userId": "02634295327518435662"
     },
     "user_tz": -330
    },
    "id": "-yKCCQOoJ7cn"
   },
   "outputs": [],
   "source": [
    "# Batch and shuffle the data\n",
    "train_dataset = tf.data.Dataset.from_tensor_slices(train_images).shuffle(BUFFER_SIZE).batch(BATCH_SIZE)"
   ]
  },
  {
   "cell_type": "markdown",
   "metadata": {
    "id": "THY-sZMiQ4UV"
   },
   "source": [
    "# Create the models"
   ]
  },
  {
   "cell_type": "markdown",
   "metadata": {
    "id": "-tEyxE-GMC48"
   },
   "source": [
    "## The Generator\n",
    "\n",
    "The generator uses `tf.keras.layers.Conv2DTranspose` (upsampling) layers to produce an image from a seed (random noise). Start with a `Dense` layer that takes this seed as input, then upsample several times until you reach the desired image size of 28x28x1. Notice the `tf.keras.layers.LeakyReLU` activation for each layer, except the output layer which uses tanh."
   ]
  },
  {
   "cell_type": "markdown",
   "metadata": {
    "id": "gc9kBg3EuQ8c"
   },
   "source": [
    "### 28*28"
   ]
  },
  {
   "cell_type": "code",
   "execution_count": 133,
   "metadata": {
    "colab": {
     "base_uri": "https://localhost:8080/",
     "height": 1000
    },
    "executionInfo": {
     "elapsed": 1118,
     "status": "ok",
     "timestamp": 1607605537452,
     "user": {
      "displayName": "Amrit Pal Singh",
      "photoUrl": "",
      "userId": "02634295327518435662"
     },
     "user_tz": -330
    },
    "id": "f_8OmeVeXmml",
    "outputId": "21d2cb64-0a86-415d-e1ab-7f48ef8c8cc0"
   },
   "outputs": [
    {
     "name": "stdout",
     "output_type": "stream",
     "text": [
      "Model: \"sequential_14\"\n",
      "_________________________________________________________________\n",
      "Layer (type)                 Output Shape              Param #   \n",
      "=================================================================\n",
      "dense_14 (Dense)             (None, 12544)             1254400   \n",
      "_________________________________________________________________\n",
      "batch_normalization_21 (Batc (None, 12544)             50176     \n",
      "_________________________________________________________________\n",
      "leaky_re_lu_35 (LeakyReLU)   (None, 12544)             0         \n",
      "_________________________________________________________________\n",
      "reshape_7 (Reshape)          (None, 7, 7, 256)         0         \n",
      "_________________________________________________________________\n",
      "conv2d_transpose_21 (Conv2DT (None, 7, 7, 128)         819200    \n",
      "_________________________________________________________________\n",
      "batch_normalization_22 (Batc (None, 7, 7, 128)         512       \n",
      "_________________________________________________________________\n",
      "leaky_re_lu_36 (LeakyReLU)   (None, 7, 7, 128)         0         \n",
      "_________________________________________________________________\n",
      "conv2d_transpose_22 (Conv2DT (None, 14, 14, 64)        204800    \n",
      "_________________________________________________________________\n",
      "batch_normalization_23 (Batc (None, 14, 14, 64)        256       \n",
      "_________________________________________________________________\n",
      "leaky_re_lu_37 (LeakyReLU)   (None, 14, 14, 64)        0         \n",
      "_________________________________________________________________\n",
      "conv2d_transpose_23 (Conv2DT (None, 28, 28, 1)         1600      \n",
      "=================================================================\n",
      "Total params: 2,330,944\n",
      "Trainable params: 2,305,472\n",
      "Non-trainable params: 25,472\n",
      "_________________________________________________________________\n",
      "tf.Tensor([[-0.00048905]], shape=(1, 1), dtype=float32)\n",
      "Model: \"sequential_15\"\n",
      "_________________________________________________________________\n",
      "Layer (type)                 Output Shape              Param #   \n",
      "=================================================================\n",
      "conv2d_14 (Conv2D)           (None, 14, 14, 64)        1664      \n",
      "_________________________________________________________________\n",
      "leaky_re_lu_38 (LeakyReLU)   (None, 14, 14, 64)        0         \n",
      "_________________________________________________________________\n",
      "dropout_14 (Dropout)         (None, 14, 14, 64)        0         \n",
      "_________________________________________________________________\n",
      "conv2d_15 (Conv2D)           (None, 7, 7, 128)         204928    \n",
      "_________________________________________________________________\n",
      "leaky_re_lu_39 (LeakyReLU)   (None, 7, 7, 128)         0         \n",
      "_________________________________________________________________\n",
      "dropout_15 (Dropout)         (None, 7, 7, 128)         0         \n",
      "_________________________________________________________________\n",
      "flatten_7 (Flatten)          (None, 6272)              0         \n",
      "_________________________________________________________________\n",
      "dense_15 (Dense)             (None, 1)                 6273      \n",
      "=================================================================\n",
      "Total params: 212,865\n",
      "Trainable params: 212,865\n",
      "Non-trainable params: 0\n",
      "_________________________________________________________________\n"
     ]
    },
    {
     "data": {
      "image/png": "[encoded data removed]",
      "text/plain": [
       "<Figure size 432x288 with 1 Axes>"
      ]
     },
     "metadata": {
      "needs_background": "light",
      "tags": []
     },
     "output_type": "display_data"
    }
   ],
   "source": [
    "input_shape = 28\n",
    "#num_color = 3\n",
    "num_color = 1\n",
    "\n",
    "def make_generator_model():\n",
    "    model = tf.keras.Sequential()\n",
    "    model.add(layers.Dense(7*7*256, use_bias=False, input_shape=(100,)))\n",
    "    model.add(layers.BatchNormalization())\n",
    "    model.add(layers.LeakyReLU())\n",
    "\n",
    "    model.add(layers.Reshape((7, 7, 256)))\n",
    "    assert model.output_shape == (None, 7, 7, 256) # Note: None is the batch size\n",
    "\n",
    "    model.add(layers.Conv2DTranspose(128, (5, 5), strides=(1, 1), padding='same', use_bias=False))\n",
    "    assert model.output_shape == (None, 7, 7, 128)\n",
    "    model.add(layers.BatchNormalization())\n",
    "    model.add(layers.LeakyReLU())\n",
    "\n",
    "    model.add(layers.Conv2DTranspose(64, (5, 5), strides=(2, 2), padding='same', use_bias=False))\n",
    "    assert model.output_shape == (None, 14, 14, 64)\n",
    "    model.add(layers.BatchNormalization())\n",
    "    model.add(layers.LeakyReLU())\n",
    "\n",
    "    model.add(layers.Conv2DTranspose(num_color, (5, 5), strides=(2, 2), padding='same', use_bias=False, activation='tanh'))\n",
    "    assert model.output_shape == (None, 28, 28, num_color)\n",
    "\n",
    "    return model\n",
    "\n",
    "generator = make_generator_model()\n",
    "generator.summary()\n",
    "\n",
    "\n",
    "noise = tf.random.normal([1, 100])\n",
    "generated_image = generator(noise, training=False)\n",
    "\n",
    "plt.imshow(generated_image[0, :, :, 0], cmap='gray')\n",
    "#plt.imshow(generated_image[0, :, :, 0])\n",
    "\n",
    "def make_discriminator_model():\n",
    "    model = tf.keras.Sequential()\n",
    "    model.add(layers.Conv2D(64, (5, 5), strides=(2, 2), padding='same',\n",
    "                                     input_shape=(input_shape, input_shape,num_color)))\n",
    "    model.add(layers.LeakyReLU())\n",
    "    model.add(layers.Dropout(0.3))\n",
    "\n",
    "    model.add(layers.Conv2D(128, (5, 5), strides=(2, 2), padding='same'))\n",
    "    model.add(layers.LeakyReLU())\n",
    "    model.add(layers.Dropout(0.3))\n",
    "\n",
    "    model.add(layers.Flatten())\n",
    "    model.add(layers.Dense(1))\n",
    "\n",
    "    return model\n",
    "\n",
    "discriminator = make_discriminator_model()\n",
    "decision = discriminator(generated_image)\n",
    "print (decision)\n",
    "\n",
    "discriminator.summary()"
   ]
  },
  {
   "cell_type": "markdown",
   "metadata": {
    "id": "_RGwUlY3uHpk"
   },
   "source": [
    "#### 32*32"
   ]
  },
  {
   "cell_type": "code",
   "execution_count": null,
   "metadata": {
    "id": "t7f4QYV9fY4S"
   },
   "outputs": [],
   "source": [
    "input_shape = 32\n",
    "num_color = 1\n",
    "#num_color = 3\n",
    "\n",
    "def make_generator_model():\n",
    "    model = tf.keras.Sequential()\n",
    "    model.add(layers.Dense(8*8*256, use_bias=False, input_shape=(100,)))\n",
    "    model.add(layers.BatchNormalization())\n",
    "    model.add(layers.LeakyReLU())\n",
    "\n",
    "    model.add(layers.Reshape((8, 8, 256)))\n",
    "    assert model.output_shape == (None, 8, 8, 256) # Note: None is the batch size\n",
    "\n",
    "    model.add(layers.Conv2DTranspose(128, (5, 5), strides=(1, 1), padding='same', use_bias=False))\n",
    "    assert model.output_shape == (None, 8, 8, 128)\n",
    "    model.add(layers.BatchNormalization())\n",
    "    model.add(layers.LeakyReLU())\n",
    "\n",
    "    model.add(layers.Conv2DTranspose(64, (5, 5), strides=(2, 2), padding='same', use_bias=False))\n",
    "    assert model.output_shape == (None, 16, 16, 64)\n",
    "    model.add(layers.BatchNormalization())\n",
    "    model.add(layers.LeakyReLU())\n",
    "\n",
    "    model.add(layers.Conv2DTranspose(num_color, (5, 5), strides=(2, 2), padding='same', use_bias=False, activation='tanh'))\n",
    "    assert model.output_shape == (None, 32, 32, num_color)\n",
    "\n",
    "    return model\n",
    "\n",
    "\n",
    "generator = make_generator_model()\n",
    "generator.summary()\n",
    "\n",
    "\n",
    "noise = tf.random.normal([5, 100])\n",
    "generated_image = generator(noise, training=False)\n",
    "\n",
    "plt.imshow(generated_image[0, :, :, 0], cmap='gray')\n",
    "\n",
    "\n",
    "def make_discriminator_model():\n",
    "    model = tf.keras.Sequential()\n",
    "    model.add(layers.Conv2D(64, (5, 5), strides=(2, 2), padding='same',\n",
    "                                     input_shape=(input_shape, input_shape,num_color)))\n",
    "    model.add(layers.LeakyReLU())\n",
    "    model.add(layers.Dropout(0.3))\n",
    "\n",
    "    model.add(layers.Conv2D(128, (5, 5), strides=(2, 2), padding='same'))\n",
    "    model.add(layers.LeakyReLU())\n",
    "    model.add(layers.Dropout(0.3))\n",
    "\n",
    "    model.add(layers.Flatten())\n",
    "    model.add(layers.Dense(1))\n",
    "\n",
    "    return model\n",
    "\n",
    "discriminator = make_discriminator_model()\n",
    "decision = discriminator(generated_image)\n",
    "print (decision)\n",
    "\n",
    "discriminator.summary()"
   ]
  },
  {
   "cell_type": "markdown",
   "metadata": {
    "id": "LLKrKur9uLqc"
   },
   "source": [
    "### 64*64"
   ]
  },
  {
   "cell_type": "code",
   "execution_count": null,
   "metadata": {
    "id": "-Brbu8ZifarJ"
   },
   "outputs": [],
   "source": [
    "input_shape = 64\n",
    "num_color = 3\n",
    "\n",
    "noise_shape = 100\n",
    "\n",
    "\n",
    "generator=tf.keras.Sequential()\n",
    "generator.add(Dense(4*4*512,input_shape=[noise_shape]))\n",
    "generator.add(Reshape([4,4,512]))\n",
    "generator.add(Conv2DTranspose(256, kernel_size=4, strides=2, padding=\"same\"))\n",
    "generator.add(LeakyReLU(alpha=0.2))\n",
    "generator.add(BatchNormalization())\n",
    "generator.add(Conv2DTranspose(128, kernel_size=4, strides=2, padding=\"same\"))\n",
    "generator.add(LeakyReLU(alpha=0.2))\n",
    "generator.add(BatchNormalization())\n",
    "generator.add(Conv2DTranspose(64, kernel_size=4, strides=2, padding=\"same\"))\n",
    "generator.add(LeakyReLU(alpha=0.2))\n",
    "generator.add(BatchNormalization())\n",
    "generator.add(Conv2DTranspose(3, kernel_size=4, strides=2, padding=\"same\",\n",
    "                                 activation='sigmoid'))\n",
    "\n",
    "generator.summary()\n",
    "\n",
    "\n",
    "noise = tf.random.normal([5, 100])\n",
    "generated_image = generator(noise, training=False)\n",
    "\n",
    "plt.imshow(generated_image[0, :, :, 0], cmap='gray')\n",
    "\n",
    "\n",
    "discriminator= tf.keras.Sequential()\n",
    "discriminator.add(Conv2D(32, kernel_size=4, strides=2, padding=\"same\",input_shape=[64,64, 3]))\n",
    "discriminator.add(Conv2D(64, kernel_size=4, strides=2, padding=\"same\"))\n",
    "discriminator.add(LeakyReLU(0.2))\n",
    "discriminator.add(BatchNormalization())\n",
    "discriminator.add(Conv2D(128, kernel_size=4, strides=2, padding=\"same\"))\n",
    "discriminator.add(LeakyReLU(0.2))\n",
    "discriminator.add(BatchNormalization())\n",
    "discriminator.add(Conv2D(256, kernel_size=4, strides=2, padding=\"same\"))\n",
    "discriminator.add(LeakyReLU(0.2))\n",
    "discriminator.add(Flatten())\n",
    "discriminator.add(Dropout(0.5))\n",
    "discriminator.add(Dense(1,activation='sigmoid'))\n",
    "\n",
    "\n",
    "discriminator.summary()\n",
    "\n",
    "decision = discriminator(generated_image)\n",
    "print (decision)\n",
    "\n"
   ]
  },
  {
   "cell_type": "markdown",
   "metadata": {
    "id": "QhPneagzCaQv"
   },
   "source": [
    "Use the (as yet untrained) discriminator to classify the generated images as real or fake. The model will be trained to output positive values for real images, and negative values for fake images."
   ]
  },
  {
   "cell_type": "markdown",
   "metadata": {
    "id": "0FMYgY_mPfTi"
   },
   "source": [
    "## Define the loss and optimizers\n",
    "\n",
    "Define loss functions and optimizers for both models.\n"
   ]
  },
  {
   "cell_type": "code",
   "execution_count": 134,
   "metadata": {
    "executionInfo": {
     "elapsed": 1271,
     "status": "ok",
     "timestamp": 1607605539864,
     "user": {
      "displayName": "Amrit Pal Singh",
      "photoUrl": "",
      "userId": "02634295327518435662"
     },
     "user_tz": -330
    },
    "id": "psQfmXxYKU3X"
   },
   "outputs": [],
   "source": [
    "# This method returns a helper function to compute cross entropy loss\n",
    "cross_entropy = tf.keras.losses.BinaryCrossentropy(from_logits=True)"
   ]
  },
  {
   "cell_type": "markdown",
   "metadata": {
    "id": "PKY_iPSPNWoj"
   },
   "source": [
    "### Discriminator loss\n",
    "\n",
    "This method quantifies how well the discriminator is able to distinguish real images from fakes. It compares the discriminator's predictions on real images to an array of 1s, and the discriminator's predictions on fake (generated) images to an array of 0s."
   ]
  },
  {
   "cell_type": "code",
   "execution_count": 135,
   "metadata": {
    "executionInfo": {
     "elapsed": 1386,
     "status": "ok",
     "timestamp": 1607605540507,
     "user": {
      "displayName": "Amrit Pal Singh",
      "photoUrl": "",
      "userId": "02634295327518435662"
     },
     "user_tz": -330
    },
    "id": "wkMNfBWlT-PV"
   },
   "outputs": [],
   "source": [
    "def discriminator_loss(real_output, fake_output):\n",
    "    real_loss = cross_entropy(tf.ones_like(real_output), real_output)\n",
    "    fake_loss = cross_entropy(tf.zeros_like(fake_output), fake_output)\n",
    "    total_loss = real_loss + fake_loss\n",
    "    return total_loss"
   ]
  },
  {
   "cell_type": "markdown",
   "metadata": {
    "id": "Jd-3GCUEiKtv"
   },
   "source": [
    "### Generator loss\n",
    "The generator's loss quantifies how well it was able to trick the discriminator. Intuitively, if the generator is performing well, the discriminator will classify the fake images as real (or 1). Here, we will compare the discriminators decisions on the generated images to an array of 1s."
   ]
  },
  {
   "cell_type": "code",
   "execution_count": 136,
   "metadata": {
    "executionInfo": {
     "elapsed": 1416,
     "status": "ok",
     "timestamp": 1607605541028,
     "user": {
      "displayName": "Amrit Pal Singh",
      "photoUrl": "",
      "userId": "02634295327518435662"
     },
     "user_tz": -330
    },
    "id": "90BIcCKcDMxz"
   },
   "outputs": [],
   "source": [
    "def generator_loss(fake_output):\n",
    "    return cross_entropy(tf.ones_like(fake_output), fake_output)"
   ]
  },
  {
   "cell_type": "markdown",
   "metadata": {
    "id": "MgIc7i0th_Iu"
   },
   "source": [
    "The discriminator and the generator optimizers are different since we will train two networks separately."
   ]
  },
  {
   "cell_type": "code",
   "execution_count": 137,
   "metadata": {
    "executionInfo": {
     "elapsed": 1417,
     "status": "ok",
     "timestamp": 1607605541494,
     "user": {
      "displayName": "Amrit Pal Singh",
      "photoUrl": "",
      "userId": "02634295327518435662"
     },
     "user_tz": -330
    },
    "id": "iWCn_PVdEJZ7"
   },
   "outputs": [],
   "source": [
    "generator_optimizer = tf.keras.optimizers.Adam(1e-4)\n",
    "discriminator_optimizer = tf.keras.optimizers.Adam(1e-4)"
   ]
  },
  {
   "cell_type": "markdown",
   "metadata": {
    "id": "mWtinsGDPJlV"
   },
   "source": [
    "### Save checkpoints\n",
    "This notebook also demonstrates how to save and restore models, which can be helpful in case a long running training task is interrupted."
   ]
  },
  {
   "cell_type": "code",
   "execution_count": 138,
   "metadata": {
    "executionInfo": {
     "elapsed": 923,
     "status": "ok",
     "timestamp": 1607605541494,
     "user": {
      "displayName": "Amrit Pal Singh",
      "photoUrl": "",
      "userId": "02634295327518435662"
     },
     "user_tz": -330
    },
    "id": "CA1w-7s2POEy"
   },
   "outputs": [],
   "source": [
    "checkpoint_dir = './training_checkpoints'\n",
    "checkpoint_prefix = os.path.join(checkpoint_dir, \"ckpt\")\n",
    "checkpoint = tf.train.Checkpoint(generator_optimizer=generator_optimizer,\n",
    "                                 discriminator_optimizer=discriminator_optimizer,\n",
    "                                 generator=generator,\n",
    "                                 discriminator=discriminator)"
   ]
  },
  {
   "cell_type": "markdown",
   "metadata": {
    "id": "Rw1fkAczTQYh"
   },
   "source": [
    "## Define the training loop\n"
   ]
  },
  {
   "cell_type": "code",
   "execution_count": 139,
   "metadata": {
    "executionInfo": {
     "elapsed": 987,
     "status": "ok",
     "timestamp": 1607605542147,
     "user": {
      "displayName": "Amrit Pal Singh",
      "photoUrl": "",
      "userId": "02634295327518435662"
     },
     "user_tz": -330
    },
    "id": "NS2GWywBbAWo"
   },
   "outputs": [],
   "source": [
    "EPOCHS = 100\n",
    "noise_dim = 100\n",
    "num_examples_to_generate = 16\n",
    "\n",
    "# We will reuse this seed overtime (so it's easier)\n",
    "# to visualize progress in the animated GIF)\n",
    "seed = tf.random.normal([num_examples_to_generate, noise_dim])"
   ]
  },
  {
   "cell_type": "markdown",
   "metadata": {
    "id": "jylSonrqSWfi"
   },
   "source": [
    "The training loop begins with generator receiving a random seed as input. That seed is used to produce an image. The discriminator is then used to classify real images (drawn from the training set) and fakes images (produced by the generator). The loss is calculated for each of these models, and the gradients are used to update the generator and discriminator."
   ]
  },
  {
   "cell_type": "code",
   "execution_count": 140,
   "metadata": {
    "executionInfo": {
     "elapsed": 697,
     "status": "ok",
     "timestamp": 1607605543800,
     "user": {
      "displayName": "Amrit Pal Singh",
      "photoUrl": "",
      "userId": "02634295327518435662"
     },
     "user_tz": -330
    },
    "id": "3t5ibNo05jCB"
   },
   "outputs": [],
   "source": [
    "# Notice the use of `tf.function`\n",
    "# This annotation causes the function to be \"compiled\".\n",
    "@tf.function\n",
    "def train_step(images):\n",
    "    noise = tf.random.normal([BATCH_SIZE, noise_dim])\n",
    "\n",
    "    with tf.GradientTape() as gen_tape, tf.GradientTape() as disc_tape:\n",
    "      generated_images = generator(noise, training=True)\n",
    "\n",
    "      real_output = discriminator(images, training=True)\n",
    "      fake_output = discriminator(generated_images, training=True)\n",
    "\n",
    "      gen_loss = generator_loss(fake_output)\n",
    "      disc_loss = discriminator_loss(real_output, fake_output)\n",
    "\n",
    "    gradients_of_generator = gen_tape.gradient(gen_loss, generator.trainable_variables)\n",
    "    gradients_of_discriminator = disc_tape.gradient(disc_loss, discriminator.trainable_variables)\n",
    "\n",
    "    generator_optimizer.apply_gradients(zip(gradients_of_generator, generator.trainable_variables))\n",
    "    discriminator_optimizer.apply_gradients(zip(gradients_of_discriminator, discriminator.trainable_variables))"
   ]
  },
  {
   "cell_type": "code",
   "execution_count": 141,
   "metadata": {
    "executionInfo": {
     "elapsed": 909,
     "status": "ok",
     "timestamp": 1607605546060,
     "user": {
      "displayName": "Amrit Pal Singh",
      "photoUrl": "",
      "userId": "02634295327518435662"
     },
     "user_tz": -330
    },
    "id": "2M7LmLtGEMQJ"
   },
   "outputs": [],
   "source": [
    "\n",
    "def train(dataset, epochs):\n",
    "  for epoch in range(epochs):\n",
    "    start = time.time()\n",
    "\n",
    "    for image_batch in dataset:\n",
    "      train_step(image_batch)\n",
    "\n",
    "    # Produce images for the GIF as we go\n",
    "    display.clear_output(wait=True)\n",
    "    generate_and_save_images(generator,\n",
    "                             epoch + 1,\n",
    "                             seed)\n",
    "\n",
    "    # Save the model every 15 epochs\n",
    "    if (epoch + 1) % 15 == 0:\n",
    "      checkpoint.save(file_prefix = checkpoint_prefix)\n",
    "\n",
    "    print ('Time for epoch {} is {} sec'.format(epoch + 1, time.time()-start))\n",
    "\n",
    "  # Generate after the final epoch\n",
    "  display.clear_output(wait=True)\n",
    "  generate_and_save_images(generator,\n",
    "                           epochs,\n",
    "                           seed)"
   ]
  },
  {
   "cell_type": "markdown",
   "metadata": {
    "id": "2aFF7Hk3XdeW"
   },
   "source": [
    "**Generate and save images**\n"
   ]
  },
  {
   "cell_type": "code",
   "execution_count": 142,
   "metadata": {
    "executionInfo": {
     "elapsed": 719,
     "status": "ok",
     "timestamp": 1607605546664,
     "user": {
      "displayName": "Amrit Pal Singh",
      "photoUrl": "",
      "userId": "02634295327518435662"
     },
     "user_tz": -330
    },
    "id": "RmdVsmvhPxyy"
   },
   "outputs": [],
   "source": [
    "def generate_and_save_images(model, epoch, test_input):\n",
    "  # Notice `training` is set to False.\n",
    "  # This is so all layers run in inference mode (batchnorm).\n",
    "  predictions = model(test_input, training=False)\n",
    "\n",
    "  fig = plt.figure(figsize=(4,4))\n",
    "\n",
    "  for i in range(predictions.shape[0]):\n",
    "      plt.subplot(4, 4, i+1)\n",
    "      plt.imshow(predictions[i, :, :, 0] * 127.5 + 127.5, cmap='gray')   #for B$W images      #spring , 'gray')\n",
    "    \n",
    "      plt.axis('off')\n",
    "\n",
    "  plt.savefig('image_at_epoch_{:04d}.png'.format(epoch))\n",
    "  plt.show()"
   ]
  },
  {
   "cell_type": "markdown",
   "metadata": {
    "id": "dZrd4CdjR-Fp"
   },
   "source": [
    "## Train the model\n",
    "Call the `train()` method defined above to train the generator and discriminator simultaneously. Note, training GANs can be tricky. It's important that the generator and discriminator do not overpower each other (e.g., that they train at a similar rate).\n",
    "\n",
    "At the beginning of the training, the generated images look like random noise. As training progresses, the generated digits will look increasingly real. After about 50 epochs, they resemble MNIST digits. This may take about one minute / epoch with the default settings on Colab."
   ]
  },
  {
   "cell_type": "code",
   "execution_count": 143,
   "metadata": {
    "colab": {
     "base_uri": "https://localhost:8080/",
     "height": 248
    },
    "executionInfo": {
     "elapsed": 823215,
     "status": "ok",
     "timestamp": 1607606482610,
     "user": {
      "displayName": "Amrit Pal Singh",
      "photoUrl": "",
      "userId": "02634295327518435662"
     },
     "user_tz": -330
    },
    "id": "Ly3UN0SLLY2l",
    "outputId": "7b870b7f-26ff-4515-929b-12917151c559"
   },
   "outputs": [
    {
     "data": {
      "image/png": "[encoded data removed]",
      "text/plain": [
       "<Figure size 288x288 with 16 Axes>"
      ]
     },
     "metadata": {
      "needs_background": "light",
      "tags": []
     },
     "output_type": "display_data"
    }
   ],
   "source": [
    "train(train_dataset, EPOCHS)"
   ]
  },
  {
   "cell_type": "code",
   "execution_count": 144,
   "metadata": {
    "colab": {
     "base_uri": "https://localhost:8080/",
     "height": 248
    },
    "executionInfo": {
     "elapsed": 526337,
     "status": "ok",
     "timestamp": 1607607847173,
     "user": {
      "displayName": "Amrit Pal Singh",
      "photoUrl": "",
      "userId": "02634295327518435662"
     },
     "user_tz": -330
    },
    "id": "WJUzNMoKRM5m",
    "outputId": "8218f8e8-dc60-4156-faf5-903046ce8e7f"
   },
   "outputs": [
    {
     "data": {
      "image/png": "[encoded data removed]",
      "text/plain": [
       "<Figure size 288x288 with 16 Axes>"
      ]
     },
     "metadata": {
      "needs_background": "light",
      "tags": []
     },
     "output_type": "display_data"
    }
   ],
   "source": [
    "train(train_dataset, 100)"
   ]
  },
  {
   "cell_type": "code",
   "execution_count": 149,
   "metadata": {
    "colab": {
     "base_uri": "https://localhost:8080/",
     "height": 248
    },
    "executionInfo": {
     "elapsed": 646236,
     "status": "ok",
     "timestamp": 1607608948867,
     "user": {
      "displayName": "Amrit Pal Singh",
      "photoUrl": "",
      "userId": "02634295327518435662"
     },
     "user_tz": -330
    },
    "id": "qRruAMDy54pe",
    "outputId": "0e9f41ee-2e94-4ff0-c3ab-3c09651e8377"
   },
   "outputs": [
    {
     "data": {
      "image/png": "[encoded data removed]",
      "text/plain": [
       "<Figure size 288x288 with 16 Axes>"
      ]
     },
     "metadata": {
      "needs_background": "light",
      "tags": []
     },
     "output_type": "display_data"
    }
   ],
   "source": [
    "train(train_dataset, 100)"
   ]
  },
  {
   "cell_type": "markdown",
   "metadata": {
    "id": "rfM4YcPVPkNO"
   },
   "source": [
    "Restore the latest checkpoint."
   ]
  },
  {
   "cell_type": "code",
   "execution_count": 150,
   "metadata": {
    "colab": {
     "base_uri": "https://localhost:8080/"
    },
    "executionInfo": {
     "elapsed": 3019,
     "status": "ok",
     "timestamp": 1607609103445,
     "user": {
      "displayName": "Amrit Pal Singh",
      "photoUrl": "",
      "userId": "02634295327518435662"
     },
     "user_tz": -330
    },
    "id": "XhXsd0srPo8c",
    "outputId": "291706f7-e096-41ca-b22e-7aa0d9657580"
   },
   "outputs": [
    {
     "data": {
      "text/plain": [
       "<tensorflow.python.training.tracking.util.CheckpointLoadStatus at 0x7f4e4e98cc50>"
      ]
     },
     "execution_count": 150,
     "metadata": {
      "tags": []
     },
     "output_type": "execute_result"
    }
   ],
   "source": [
    "checkpoint.restore(tf.train.latest_checkpoint(checkpoint_dir))"
   ]
  },
  {
   "cell_type": "markdown",
   "metadata": {
    "id": "P4M_vIbUi7c0"
   },
   "source": [
    "## Create a GIF\n"
   ]
  },
  {
   "cell_type": "code",
   "execution_count": 151,
   "metadata": {
    "executionInfo": {
     "elapsed": 3973,
     "status": "ok",
     "timestamp": 1607609104972,
     "user": {
      "displayName": "Amrit Pal Singh",
      "photoUrl": "",
      "userId": "02634295327518435662"
     },
     "user_tz": -330
    },
    "id": "WfO5wCdclHGL"
   },
   "outputs": [],
   "source": [
    "# Display a single image using the epoch number\n",
    "def display_image(epoch_no):\n",
    "  return PIL.Image.open('image_at_epoch_{:04d}.png'.format(epoch_no))"
   ]
  },
  {
   "cell_type": "code",
   "execution_count": 152,
   "metadata": {
    "colab": {
     "base_uri": "https://localhost:8080/",
     "height": 305
    },
    "executionInfo": {
     "elapsed": 3357,
     "status": "ok",
     "timestamp": 1607609104974,
     "user": {
      "displayName": "Amrit Pal Singh",
      "photoUrl": "",
      "userId": "02634295327518435662"
     },
     "user_tz": -330
    },
    "id": "5x3q9_Oe5q0A",
    "outputId": "31df3943-0421-43c7-bc61-4d2262a82d98"
   },
   "outputs": [
    {
     "data": {
      "image/png": "[encoded data removed]",
      "text/plain": [
       "<PIL.PngImagePlugin.PngImageFile image mode=RGBA size=288x288 at 0x7F4E4C323F28>"
      ]
     },
     "execution_count": 152,
     "metadata": {
      "tags": []
     },
     "output_type": "execute_result"
    }
   ],
   "source": [
    "display_image(EPOCHS)"
   ]
  },
  {
   "cell_type": "markdown",
   "metadata": {
    "id": "NywiH3nL8guF"
   },
   "source": [
    "Use `imageio` to create an animated gif using the images saved during training."
   ]
  },
  {
   "cell_type": "code",
   "execution_count": 153,
   "metadata": {
    "executionInfo": {
     "elapsed": 4080,
     "status": "ok",
     "timestamp": 1607609109272,
     "user": {
      "displayName": "Amrit Pal Singh",
      "photoUrl": "",
      "userId": "02634295327518435662"
     },
     "user_tz": -330
    },
    "id": "IGKQgENQ8lEI"
   },
   "outputs": [],
   "source": [
    "anim_file = 'dcgan.gif'\n",
    "\n",
    "with imageio.get_writer(anim_file, mode='I') as writer:\n",
    "  filenames = glob.glob('image*.png')\n",
    "  filenames = sorted(filenames)\n",
    "  for filename in filenames:\n",
    "    image = imageio.imread(filename)\n",
    "    writer.append_data(image)\n",
    "  image = imageio.imread(filename)\n",
    "  writer.append_data(image)"
   ]
  },
  {
   "cell_type": "code",
   "execution_count": null,
   "metadata": {
    "id": "ZBwyU6t2Wf3g"
   },
   "outputs": [],
   "source": [
    "import tensorflow_docs.vis.embed as embed\n",
    "embed.embed_file(anim_file)"
   ]
  }
 ],
 "metadata": {
  "accelerator": "GPU",
  "colab": {
   "collapsed_sections": [
    "iYn4MdZnKCey"
   ],
   "name": "Intro to DCGAN-CIFAR10.ipynb",
   "provenance": [
    {
     "file_id": "1SUtHpbHf6NHS_U3nPnxIMNNL1y6WPtJa",
     "timestamp": 1607526603360
    },
    {
     "file_id": "https://github.com/tensorflow/docs/blob/master/site/en/tutorials/generative/dcgan.ipynb",
     "timestamp": 1607521959224
    }
   ]
  },
  "kernelspec": {
   "display_name": "Python 3",
   "language": "python",
   "name": "python3"
  },
  "language_info": {
   "codemirror_mode": {
    "name": "ipython",
    "version": 3
   },
   "file_extension": ".py",
   "mimetype": "text/x-python",
   "name": "python",
   "nbconvert_exporter": "python",
   "pygments_lexer": "ipython3",
   "version": "3.8.5"
  }
 },
 "nbformat": 4,
 "nbformat_minor": 1
}
